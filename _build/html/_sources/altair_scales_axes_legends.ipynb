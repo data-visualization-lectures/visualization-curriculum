{
 "cells": [
  {
   "cell_type": "markdown",
   "metadata": {
    "colab_type": "text",
    "id": "s-_LXMfxPYNn"
   },
   "source": [
    "# スケール、軸、凡例\n",
    "\n",
    "視覚的エンコーディング &ndash; データを位置、サイズ、形状、色などの視覚的変数にマッピングすること &ndash; はデータ可視化の中心的な要素です。このマッピングを実際に行う主役が*スケール*です。スケールは、データ値（スケールの*ドメイン*）を入力として受け取り、ピクセル位置やRGB色などの視覚的な値（スケールの*レンジ*）を出力する関数です。もちろん、可視化は内容が伝わらなければ意味がありません！グラフィカルマークに加え、チャートには読者がグラフィックを解読するための参照要素、つまり*ガイド*が必要です。*軸*（空間的な範囲でスケールを可視化する）や*凡例*（色、サイズ、形状の範囲でスケールを可視化する）といったガイドは、効果的なデータ可視化の縁の下の力持ちです。\n",
    "\n",
    "このノートブックでは、スケールマッピング、軸、凡例のカスタマイズ設計をサポートするAltairのオプションを、抗生物質の効果に関する例を使って探っていきます。\n",
    "\n",
    "_このノートブックは、[データ可視化カリキュラム](https://github.com/uwdata/visualization-curriculum) の一部です。_"
   ]
  },
  {
   "cell_type": "code",
   "execution_count": 1,
   "metadata": {
    "colab": {},
    "colab_type": "code",
    "id": "9-iDk57UO3ij"
   },
   "outputs": [],
   "source": [
    "import pandas as pd\n",
    "import altair as alt"
   ]
  },
  {
   "cell_type": "markdown",
   "metadata": {
    "colab_type": "text",
    "id": "2bgy9xz4J2vb"
   },
   "source": [
    "## 抗生物質データ"
   ]
  },
  {
   "cell_type": "markdown",
   "metadata": {
    "colab_type": "text",
    "id": "cXYJkW_p6zGN"
   },
   "source": [
    "第二次世界大戦後、抗生物質は「奇跡の薬」と見なされ、それまで治療が困難だった病気に対する簡単な治療法として広まりました。どの抗生物質がどの細菌感染症に最も効果的かを調べるため、16種類の細菌に対する3つの最も人気のある抗生物質の効果が収集されました。"
   ]
  },
  {
   "cell_type": "markdown",
   "metadata": {
    "colab_type": "text",
    "id": "YRXEnlzG8Cpt"
   },
   "source": [
    "[vega-datasetsコレクション](https://github.com/vega/vega-datasets)から抗生物質データセットを使用します。以下の例では、このデータセットのURLをAltairに直接渡します。"
   ]
  },
  {
   "cell_type": "code",
   "execution_count": 2,
   "metadata": {
    "colab": {},
    "colab_type": "code",
    "id": "jbtcg3fmJ5_A"
   },
   "outputs": [],
   "source": [
    "antibiotics = 'https://cdn.jsdelivr.net/npm/vega-datasets@1/data/burtin.json'"
   ]
  },
  {
   "cell_type": "markdown",
   "metadata": {
    "colab_type": "text",
    "id": "MGHC8Fft8L2E"
   },
   "source": [
    "まず、Pandasを使用してデータを読み込み、データセット全体を表示し、利用可能なフィールドに慣れ親しみましょう:"
   ]
  },
  {
   "cell_type": "code",
   "execution_count": 3,
   "metadata": {
    "colab": {
     "base_uri": "https://localhost:8080/",
     "height": 545
    },
    "colab_type": "code",
    "id": "WoMzr0HE6ipZ",
    "outputId": "fa9edadf-8744-4514-d8ba-5401b7f66bed"
   },
   "outputs": [
    {
     "data": {
      "text/html": [
       "<div>\n",
       "<style scoped>\n",
       "    .dataframe tbody tr th:only-of-type {\n",
       "        vertical-align: middle;\n",
       "    }\n",
       "\n",
       "    .dataframe tbody tr th {\n",
       "        vertical-align: top;\n",
       "    }\n",
       "\n",
       "    .dataframe thead th {\n",
       "        text-align: right;\n",
       "    }\n",
       "</style>\n",
       "<table border=\"1\" class=\"dataframe\">\n",
       "  <thead>\n",
       "    <tr style=\"text-align: right;\">\n",
       "      <th></th>\n",
       "      <th>Bacteria</th>\n",
       "      <th>Penicillin</th>\n",
       "      <th>Streptomycin</th>\n",
       "      <th>Neomycin</th>\n",
       "      <th>Gram_Staining</th>\n",
       "      <th>Genus</th>\n",
       "    </tr>\n",
       "  </thead>\n",
       "  <tbody>\n",
       "    <tr>\n",
       "      <th>0</th>\n",
       "      <td>Aerobacter aerogenes</td>\n",
       "      <td>870.000</td>\n",
       "      <td>1.00</td>\n",
       "      <td>1.600</td>\n",
       "      <td>negative</td>\n",
       "      <td>other</td>\n",
       "    </tr>\n",
       "    <tr>\n",
       "      <th>1</th>\n",
       "      <td>Bacillus anthracis</td>\n",
       "      <td>0.001</td>\n",
       "      <td>0.01</td>\n",
       "      <td>0.007</td>\n",
       "      <td>positive</td>\n",
       "      <td>other</td>\n",
       "    </tr>\n",
       "    <tr>\n",
       "      <th>2</th>\n",
       "      <td>Brucella abortus</td>\n",
       "      <td>1.000</td>\n",
       "      <td>2.00</td>\n",
       "      <td>0.020</td>\n",
       "      <td>negative</td>\n",
       "      <td>other</td>\n",
       "    </tr>\n",
       "    <tr>\n",
       "      <th>3</th>\n",
       "      <td>Diplococcus pneumoniae</td>\n",
       "      <td>0.005</td>\n",
       "      <td>11.00</td>\n",
       "      <td>10.000</td>\n",
       "      <td>positive</td>\n",
       "      <td>other</td>\n",
       "    </tr>\n",
       "    <tr>\n",
       "      <th>4</th>\n",
       "      <td>Escherichia coli</td>\n",
       "      <td>100.000</td>\n",
       "      <td>0.40</td>\n",
       "      <td>0.100</td>\n",
       "      <td>negative</td>\n",
       "      <td>other</td>\n",
       "    </tr>\n",
       "    <tr>\n",
       "      <th>5</th>\n",
       "      <td>Klebsiella pneumoniae</td>\n",
       "      <td>850.000</td>\n",
       "      <td>1.20</td>\n",
       "      <td>1.000</td>\n",
       "      <td>negative</td>\n",
       "      <td>other</td>\n",
       "    </tr>\n",
       "    <tr>\n",
       "      <th>6</th>\n",
       "      <td>Mycobacterium tuberculosis</td>\n",
       "      <td>800.000</td>\n",
       "      <td>5.00</td>\n",
       "      <td>2.000</td>\n",
       "      <td>negative</td>\n",
       "      <td>other</td>\n",
       "    </tr>\n",
       "    <tr>\n",
       "      <th>7</th>\n",
       "      <td>Proteus vulgaris</td>\n",
       "      <td>3.000</td>\n",
       "      <td>0.10</td>\n",
       "      <td>0.100</td>\n",
       "      <td>negative</td>\n",
       "      <td>other</td>\n",
       "    </tr>\n",
       "    <tr>\n",
       "      <th>8</th>\n",
       "      <td>Pseudomonas aeruginosa</td>\n",
       "      <td>850.000</td>\n",
       "      <td>2.00</td>\n",
       "      <td>0.400</td>\n",
       "      <td>negative</td>\n",
       "      <td>other</td>\n",
       "    </tr>\n",
       "    <tr>\n",
       "      <th>9</th>\n",
       "      <td>Salmonella (Eberthella) typhosa</td>\n",
       "      <td>1.000</td>\n",
       "      <td>0.40</td>\n",
       "      <td>0.008</td>\n",
       "      <td>negative</td>\n",
       "      <td>Salmonella</td>\n",
       "    </tr>\n",
       "    <tr>\n",
       "      <th>10</th>\n",
       "      <td>Salmonella schottmuelleri</td>\n",
       "      <td>10.000</td>\n",
       "      <td>0.80</td>\n",
       "      <td>0.090</td>\n",
       "      <td>negative</td>\n",
       "      <td>Salmonella</td>\n",
       "    </tr>\n",
       "    <tr>\n",
       "      <th>11</th>\n",
       "      <td>Staphylococcus albus</td>\n",
       "      <td>0.007</td>\n",
       "      <td>0.10</td>\n",
       "      <td>0.001</td>\n",
       "      <td>positive</td>\n",
       "      <td>Staphylococcus</td>\n",
       "    </tr>\n",
       "    <tr>\n",
       "      <th>12</th>\n",
       "      <td>Staphylococcus aureus</td>\n",
       "      <td>0.030</td>\n",
       "      <td>0.03</td>\n",
       "      <td>0.001</td>\n",
       "      <td>positive</td>\n",
       "      <td>Staphylococcus</td>\n",
       "    </tr>\n",
       "    <tr>\n",
       "      <th>13</th>\n",
       "      <td>Streptococcus fecalis</td>\n",
       "      <td>1.000</td>\n",
       "      <td>1.00</td>\n",
       "      <td>0.100</td>\n",
       "      <td>positive</td>\n",
       "      <td>Streptococcus</td>\n",
       "    </tr>\n",
       "    <tr>\n",
       "      <th>14</th>\n",
       "      <td>Streptococcus hemolyticus</td>\n",
       "      <td>0.001</td>\n",
       "      <td>14.00</td>\n",
       "      <td>10.000</td>\n",
       "      <td>positive</td>\n",
       "      <td>Streptococcus</td>\n",
       "    </tr>\n",
       "    <tr>\n",
       "      <th>15</th>\n",
       "      <td>Streptococcus viridans</td>\n",
       "      <td>0.005</td>\n",
       "      <td>10.00</td>\n",
       "      <td>40.000</td>\n",
       "      <td>positive</td>\n",
       "      <td>Streptococcus</td>\n",
       "    </tr>\n",
       "  </tbody>\n",
       "</table>\n",
       "</div>"
      ],
      "text/plain": [
       "                           Bacteria  Penicillin  Streptomycin  Neomycin  \\\n",
       "0              Aerobacter aerogenes     870.000          1.00     1.600   \n",
       "1                Bacillus anthracis       0.001          0.01     0.007   \n",
       "2                  Brucella abortus       1.000          2.00     0.020   \n",
       "3            Diplococcus pneumoniae       0.005         11.00    10.000   \n",
       "4                  Escherichia coli     100.000          0.40     0.100   \n",
       "5             Klebsiella pneumoniae     850.000          1.20     1.000   \n",
       "6        Mycobacterium tuberculosis     800.000          5.00     2.000   \n",
       "7                  Proteus vulgaris       3.000          0.10     0.100   \n",
       "8            Pseudomonas aeruginosa     850.000          2.00     0.400   \n",
       "9   Salmonella (Eberthella) typhosa       1.000          0.40     0.008   \n",
       "10        Salmonella schottmuelleri      10.000          0.80     0.090   \n",
       "11             Staphylococcus albus       0.007          0.10     0.001   \n",
       "12            Staphylococcus aureus       0.030          0.03     0.001   \n",
       "13            Streptococcus fecalis       1.000          1.00     0.100   \n",
       "14        Streptococcus hemolyticus       0.001         14.00    10.000   \n",
       "15           Streptococcus viridans       0.005         10.00    40.000   \n",
       "\n",
       "   Gram_Staining           Genus  \n",
       "0       negative           other  \n",
       "1       positive           other  \n",
       "2       negative           other  \n",
       "3       positive           other  \n",
       "4       negative           other  \n",
       "5       negative           other  \n",
       "6       negative           other  \n",
       "7       negative           other  \n",
       "8       negative           other  \n",
       "9       negative      Salmonella  \n",
       "10      negative      Salmonella  \n",
       "11      positive  Staphylococcus  \n",
       "12      positive  Staphylococcus  \n",
       "13      positive   Streptococcus  \n",
       "14      positive   Streptococcus  \n",
       "15      positive   Streptococcus  "
      ]
     },
     "execution_count": 3,
     "metadata": {},
     "output_type": "execute_result"
    }
   ],
   "source": [
    "pd.read_json(antibiotics)"
   ]
  },
  {
   "cell_type": "markdown",
   "metadata": {
    "colab_type": "text",
    "id": "els3ZQOv7K_9"
   },
   "source": [
    "表中の数値は、抗生物質の効果を測定する指標である[*最小発育阻止濃度 (MIC)*](https://en.wikipedia.org/wiki/Minimum_inhibitory_concentration)を示しています。これは、*in vitro*（試験管内）での細菌の成長を防ぐために必要な抗生物質の濃度（マイクログラム/ミリリットル）を表します。また、細菌の反応を示す名義型フィールド`Gram_Staining`は、[*グラム染色*](https://en.wikipedia.org/wiki/Gram_stain)と呼ばれる手法によって記録されています。濃青色または紫色に変色する細菌はグラム陽性（Gram-positive）です。それ以外はグラム陰性（Gram-negative）と分類されます。\n",
    "\n",
    "このデータセットのさまざまな可視化を検討しながら、自問してみてください：\n",
    "- 抗生物質の相対的な効果について何を学べるでしょうか？\n",
    "- 細菌種の抗生物質反応に基づいて、細菌について何を理解できるでしょうか？"
   ]
  },
  {
   "cell_type": "markdown",
   "metadata": {
    "colab_type": "text",
    "id": "9ZNMXWOzKvRa"
   },
   "source": [
    "## スケールと軸の設定"
   ]
  },
  {
   "cell_type": "markdown",
   "metadata": {
    "colab_type": "text",
    "id": "dawVYXt1WNJz"
   },
   "source": [
    "### 抗生物質耐性のプロット：スケールタイプの調整\n",
    "\n",
    "まず、NeomycinのMICを示すシンプルなドットプロットを見てみましょう。"
   ]
  },
  {
   "cell_type": "code",
   "execution_count": 4,
   "metadata": {
    "colab": {
     "base_uri": "https://localhost:8080/",
     "height": 87
    },
    "colab_type": "code",
    "id": "dBOlbuYpKx6L",
    "outputId": "90dfa88f-a287-4d0f-84ee-02f88f2f4701"
   },
   "outputs": [
    {
     "data": {
      "text/html": [
       "\n",
       "<div id=\"altair-viz-29f74525383545bf890da902440f11be\"></div>\n",
       "<script type=\"text/javascript\">\n",
       "  (function(spec, embedOpt){\n",
       "    let outputDiv = document.currentScript.previousElementSibling;\n",
       "    if (outputDiv.id !== \"altair-viz-29f74525383545bf890da902440f11be\") {\n",
       "      outputDiv = document.getElementById(\"altair-viz-29f74525383545bf890da902440f11be\");\n",
       "    }\n",
       "    const paths = {\n",
       "      \"vega\": \"https://cdn.jsdelivr.net/npm//vega@5?noext\",\n",
       "      \"vega-lib\": \"https://cdn.jsdelivr.net/npm//vega-lib?noext\",\n",
       "      \"vega-lite\": \"https://cdn.jsdelivr.net/npm//vega-lite@4.8.1?noext\",\n",
       "      \"vega-embed\": \"https://cdn.jsdelivr.net/npm//vega-embed@6?noext\",\n",
       "    };\n",
       "\n",
       "    function loadScript(lib) {\n",
       "      return new Promise(function(resolve, reject) {\n",
       "        var s = document.createElement('script');\n",
       "        s.src = paths[lib];\n",
       "        s.async = true;\n",
       "        s.onload = () => resolve(paths[lib]);\n",
       "        s.onerror = () => reject(`Error loading script: ${paths[lib]}`);\n",
       "        document.getElementsByTagName(\"head\")[0].appendChild(s);\n",
       "      });\n",
       "    }\n",
       "\n",
       "    function showError(err) {\n",
       "      outputDiv.innerHTML = `<div class=\"error\" style=\"color:red;\">${err}</div>`;\n",
       "      throw err;\n",
       "    }\n",
       "\n",
       "    function displayChart(vegaEmbed) {\n",
       "      vegaEmbed(outputDiv, spec, embedOpt)\n",
       "        .catch(err => showError(`Javascript Error: ${err.message}<br>This usually means there's a typo in your chart specification. See the javascript console for the full traceback.`));\n",
       "    }\n",
       "\n",
       "    if(typeof define === \"function\" && define.amd) {\n",
       "      requirejs.config({paths});\n",
       "      require([\"vega-embed\"], displayChart, err => showError(`Error loading script: ${err.message}`));\n",
       "    } else if (typeof vegaEmbed === \"function\") {\n",
       "      displayChart(vegaEmbed);\n",
       "    } else {\n",
       "      loadScript(\"vega\")\n",
       "        .then(() => loadScript(\"vega-lite\"))\n",
       "        .then(() => loadScript(\"vega-embed\"))\n",
       "        .catch(showError)\n",
       "        .then(() => displayChart(vegaEmbed));\n",
       "    }\n",
       "  })({\"config\": {\"view\": {\"continuousWidth\": 400, \"continuousHeight\": 300}}, \"data\": {\"url\": \"https://cdn.jsdelivr.net/npm/vega-datasets@1/data/burtin.json\"}, \"mark\": \"circle\", \"encoding\": {\"x\": {\"type\": \"quantitative\", \"field\": \"Neomycin\"}}, \"$schema\": \"https://vega.github.io/schema/vega-lite/v4.8.1.json\"}, {\"mode\": \"vega-lite\"});\n",
       "</script>"
      ],
      "text/plain": [
       "alt.Chart(...)"
      ]
     },
     "execution_count": 4,
     "metadata": {},
     "output_type": "execute_result"
    }
   ],
   "source": [
    "alt.Chart(antibiotics).mark_circle().encode(\n",
    "    alt.X('Neomycin:Q')\n",
    ")"
   ]
  },
  {
   "cell_type": "markdown",
   "metadata": {
    "colab_type": "text",
    "id": "eTBRtG7CWVVX"
   },
   "source": [
    "_MIC値が桁違いの範囲にわたることがわかります。ほとんどのポイントは左側に集中し、右側にはいくつかの大きな外れ値があります。_\n",
    "\n",
    "デフォルトでは、Altairはドメイン値（MIC）とレンジ値（ピクセル）の間に`linear`マッピングを使用します。データの全体像をよりよく把握するために、別のスケール変換を適用してみましょう。"
   ]
  },
  {
   "cell_type": "markdown",
   "metadata": {
    "colab_type": "text",
    "id": "-K94jPdi9xUJ"
   },
   "source": [
    "スケールタイプを変更するには、`scale`属性を設定し、`alt.Scale`メソッドと`type`パラメータを使用します。\n",
    "\n",
    "以下は平方根（`sqrt`）スケールタイプを使用した結果です。ピクセル範囲の距離がデータドメインの距離の平方根に対応するようになります。"
   ]
  },
  {
   "cell_type": "code",
   "execution_count": 5,
   "metadata": {
    "colab": {
     "base_uri": "https://localhost:8080/",
     "height": 87
    },
    "colab_type": "code",
    "id": "QB5YNBMWLewL",
    "outputId": "45edabce-e14c-4e47-ee0e-838d03eaebb9"
   },
   "outputs": [
    {
     "data": {
      "text/html": [
       "\n",
       "<div id=\"altair-viz-8c6eef6a81aa4ff18eb8a15c4b52a63f\"></div>\n",
       "<script type=\"text/javascript\">\n",
       "  (function(spec, embedOpt){\n",
       "    let outputDiv = document.currentScript.previousElementSibling;\n",
       "    if (outputDiv.id !== \"altair-viz-8c6eef6a81aa4ff18eb8a15c4b52a63f\") {\n",
       "      outputDiv = document.getElementById(\"altair-viz-8c6eef6a81aa4ff18eb8a15c4b52a63f\");\n",
       "    }\n",
       "    const paths = {\n",
       "      \"vega\": \"https://cdn.jsdelivr.net/npm//vega@5?noext\",\n",
       "      \"vega-lib\": \"https://cdn.jsdelivr.net/npm//vega-lib?noext\",\n",
       "      \"vega-lite\": \"https://cdn.jsdelivr.net/npm//vega-lite@4.8.1?noext\",\n",
       "      \"vega-embed\": \"https://cdn.jsdelivr.net/npm//vega-embed@6?noext\",\n",
       "    };\n",
       "\n",
       "    function loadScript(lib) {\n",
       "      return new Promise(function(resolve, reject) {\n",
       "        var s = document.createElement('script');\n",
       "        s.src = paths[lib];\n",
       "        s.async = true;\n",
       "        s.onload = () => resolve(paths[lib]);\n",
       "        s.onerror = () => reject(`Error loading script: ${paths[lib]}`);\n",
       "        document.getElementsByTagName(\"head\")[0].appendChild(s);\n",
       "      });\n",
       "    }\n",
       "\n",
       "    function showError(err) {\n",
       "      outputDiv.innerHTML = `<div class=\"error\" style=\"color:red;\">${err}</div>`;\n",
       "      throw err;\n",
       "    }\n",
       "\n",
       "    function displayChart(vegaEmbed) {\n",
       "      vegaEmbed(outputDiv, spec, embedOpt)\n",
       "        .catch(err => showError(`Javascript Error: ${err.message}<br>This usually means there's a typo in your chart specification. See the javascript console for the full traceback.`));\n",
       "    }\n",
       "\n",
       "    if(typeof define === \"function\" && define.amd) {\n",
       "      requirejs.config({paths});\n",
       "      require([\"vega-embed\"], displayChart, err => showError(`Error loading script: ${err.message}`));\n",
       "    } else if (typeof vegaEmbed === \"function\") {\n",
       "      displayChart(vegaEmbed);\n",
       "    } else {\n",
       "      loadScript(\"vega\")\n",
       "        .then(() => loadScript(\"vega-lite\"))\n",
       "        .then(() => loadScript(\"vega-embed\"))\n",
       "        .catch(showError)\n",
       "        .then(() => displayChart(vegaEmbed));\n",
       "    }\n",
       "  })({\"config\": {\"view\": {\"continuousWidth\": 400, \"continuousHeight\": 300}}, \"data\": {\"url\": \"https://cdn.jsdelivr.net/npm/vega-datasets@1/data/burtin.json\"}, \"mark\": \"circle\", \"encoding\": {\"x\": {\"type\": \"quantitative\", \"field\": \"Neomycin\", \"scale\": {\"type\": \"sqrt\"}}}, \"$schema\": \"https://vega.github.io/schema/vega-lite/v4.8.1.json\"}, {\"mode\": \"vega-lite\"});\n",
       "</script>"
      ],
      "text/plain": [
       "alt.Chart(...)"
      ]
     },
     "execution_count": 5,
     "metadata": {},
     "output_type": "execute_result"
    }
   ],
   "source": [
    "alt.Chart(antibiotics).mark_circle().encode(\n",
    "    alt.X('Neomycin:Q',\n",
    "          scale=alt.Scale(type='sqrt'))\n",
    ")"
   ]
  },
  {
   "cell_type": "markdown",
   "metadata": {
    "colab_type": "text",
    "id": "qqosAiy5XDKJ"
   },
   "source": [
    "_左側のポイントは以前よりも区別しやすくなりましたが、依然として強い偏りが見られます。_\n",
    "\n",
    "次に、[対数スケール](https://en.wikipedia.org/wiki/Logarithmic_scale)（`log`）を使用してみましょう:"
   ]
  },
  {
   "cell_type": "code",
   "execution_count": 6,
   "metadata": {
    "colab": {
     "base_uri": "https://localhost:8080/",
     "height": 87
    },
    "colab_type": "code",
    "id": "jGlWyOOMLoQ3",
    "outputId": "6e386312-0477-4f04-a845-f4c9f67a4ac0"
   },
   "outputs": [
    {
     "data": {
      "text/html": [
       "\n",
       "<div id=\"altair-viz-46bd2ac97d4e42a4b511179b2a14c15b\"></div>\n",
       "<script type=\"text/javascript\">\n",
       "  (function(spec, embedOpt){\n",
       "    let outputDiv = document.currentScript.previousElementSibling;\n",
       "    if (outputDiv.id !== \"altair-viz-46bd2ac97d4e42a4b511179b2a14c15b\") {\n",
       "      outputDiv = document.getElementById(\"altair-viz-46bd2ac97d4e42a4b511179b2a14c15b\");\n",
       "    }\n",
       "    const paths = {\n",
       "      \"vega\": \"https://cdn.jsdelivr.net/npm//vega@5?noext\",\n",
       "      \"vega-lib\": \"https://cdn.jsdelivr.net/npm//vega-lib?noext\",\n",
       "      \"vega-lite\": \"https://cdn.jsdelivr.net/npm//vega-lite@4.8.1?noext\",\n",
       "      \"vega-embed\": \"https://cdn.jsdelivr.net/npm//vega-embed@6?noext\",\n",
       "    };\n",
       "\n",
       "    function loadScript(lib) {\n",
       "      return new Promise(function(resolve, reject) {\n",
       "        var s = document.createElement('script');\n",
       "        s.src = paths[lib];\n",
       "        s.async = true;\n",
       "        s.onload = () => resolve(paths[lib]);\n",
       "        s.onerror = () => reject(`Error loading script: ${paths[lib]}`);\n",
       "        document.getElementsByTagName(\"head\")[0].appendChild(s);\n",
       "      });\n",
       "    }\n",
       "\n",
       "    function showError(err) {\n",
       "      outputDiv.innerHTML = `<div class=\"error\" style=\"color:red;\">${err}</div>`;\n",
       "      throw err;\n",
       "    }\n",
       "\n",
       "    function displayChart(vegaEmbed) {\n",
       "      vegaEmbed(outputDiv, spec, embedOpt)\n",
       "        .catch(err => showError(`Javascript Error: ${err.message}<br>This usually means there's a typo in your chart specification. See the javascript console for the full traceback.`));\n",
       "    }\n",
       "\n",
       "    if(typeof define === \"function\" && define.amd) {\n",
       "      requirejs.config({paths});\n",
       "      require([\"vega-embed\"], displayChart, err => showError(`Error loading script: ${err.message}`));\n",
       "    } else if (typeof vegaEmbed === \"function\") {\n",
       "      displayChart(vegaEmbed);\n",
       "    } else {\n",
       "      loadScript(\"vega\")\n",
       "        .then(() => loadScript(\"vega-lite\"))\n",
       "        .then(() => loadScript(\"vega-embed\"))\n",
       "        .catch(showError)\n",
       "        .then(() => displayChart(vegaEmbed));\n",
       "    }\n",
       "  })({\"config\": {\"view\": {\"continuousWidth\": 400, \"continuousHeight\": 300}}, \"data\": {\"url\": \"https://cdn.jsdelivr.net/npm/vega-datasets@1/data/burtin.json\"}, \"mark\": \"circle\", \"encoding\": {\"x\": {\"type\": \"quantitative\", \"field\": \"Neomycin\", \"scale\": {\"type\": \"log\"}}}, \"$schema\": \"https://vega.github.io/schema/vega-lite/v4.8.1.json\"}, {\"mode\": \"vega-lite\"});\n",
       "</script>"
      ],
      "text/plain": [
       "alt.Chart(...)"
      ]
     },
     "execution_count": 6,
     "metadata": {},
     "output_type": "execute_result"
    }
   ],
   "source": [
    "alt.Chart(antibiotics).mark_circle().encode(\n",
    "    alt.X('Neomycin:Q',\n",
    "          scale=alt.Scale(type='log'))\n",
    ")"
   ]
  },
  {
   "cell_type": "markdown",
   "metadata": {
    "colab_type": "text",
    "id": "MapiFW7hXMOG"
   },
   "source": [
    "_この結果、データはより均等に分布し、異なる細菌に対して必要な濃度の非常に大きな違いが明確に見えるようになりました。_\n",
    "\n",
    "標準的な線形スケールでは、視覚的な距離（ピクセル単位）10がデータドメインでの*加算*10に対応することがあります。一方、対数変換では、乗算と加算の間でマッピングが行われ、`log(u) + log(v) = log(u*v)`が成り立ちます。その結果、対数スケールでは、視覚的な距離10がデータドメインでの*乗算*10に対応します（対数の底が10の場合）。上記の`log`スケールはデフォルトで底10の対数を使用しますが、`base`パラメータをスケールに指定することでこの値を調整できます。"
   ]
  },
  {
   "cell_type": "markdown",
   "metadata": {
    "colab_type": "text",
    "id": "P3u_mJgLeJGt"
   },
   "source": [
    "### 軸のスタイリング\n",
    "\n",
    "低い投与量はより高い効果を示します。しかし、一部の人々は「良い」値がチャート内で「右上」に位置することを期待するかもしれません。この慣習に合わせる場合、「効果」を逆方向のMICスケールとしてエンコードするために軸を反転させることができます。\n",
    "\n",
    "これを実現するには、エンコーディングの`sort`プロパティを`'descending'`に設定します。"
   ]
  },
  {
   "cell_type": "code",
   "execution_count": 7,
   "metadata": {
    "colab": {
     "base_uri": "https://localhost:8080/",
     "height": 87
    },
    "colab_type": "code",
    "id": "4gNdIiP7Lu8_",
    "outputId": "d11f184f-9040-444b-b478-5e63cae4102a"
   },
   "outputs": [
    {
     "data": {
      "text/html": [
       "\n",
       "<div id=\"altair-viz-34071e52f7394672a9063cd0829d8c39\"></div>\n",
       "<script type=\"text/javascript\">\n",
       "  (function(spec, embedOpt){\n",
       "    let outputDiv = document.currentScript.previousElementSibling;\n",
       "    if (outputDiv.id !== \"altair-viz-34071e52f7394672a9063cd0829d8c39\") {\n",
       "      outputDiv = document.getElementById(\"altair-viz-34071e52f7394672a9063cd0829d8c39\");\n",
       "    }\n",
       "    const paths = {\n",
       "      \"vega\": \"https://cdn.jsdelivr.net/npm//vega@5?noext\",\n",
       "      \"vega-lib\": \"https://cdn.jsdelivr.net/npm//vega-lib?noext\",\n",
       "      \"vega-lite\": \"https://cdn.jsdelivr.net/npm//vega-lite@4.8.1?noext\",\n",
       "      \"vega-embed\": \"https://cdn.jsdelivr.net/npm//vega-embed@6?noext\",\n",
       "    };\n",
       "\n",
       "    function loadScript(lib) {\n",
       "      return new Promise(function(resolve, reject) {\n",
       "        var s = document.createElement('script');\n",
       "        s.src = paths[lib];\n",
       "        s.async = true;\n",
       "        s.onload = () => resolve(paths[lib]);\n",
       "        s.onerror = () => reject(`Error loading script: ${paths[lib]}`);\n",
       "        document.getElementsByTagName(\"head\")[0].appendChild(s);\n",
       "      });\n",
       "    }\n",
       "\n",
       "    function showError(err) {\n",
       "      outputDiv.innerHTML = `<div class=\"error\" style=\"color:red;\">${err}</div>`;\n",
       "      throw err;\n",
       "    }\n",
       "\n",
       "    function displayChart(vegaEmbed) {\n",
       "      vegaEmbed(outputDiv, spec, embedOpt)\n",
       "        .catch(err => showError(`Javascript Error: ${err.message}<br>This usually means there's a typo in your chart specification. See the javascript console for the full traceback.`));\n",
       "    }\n",
       "\n",
       "    if(typeof define === \"function\" && define.amd) {\n",
       "      requirejs.config({paths});\n",
       "      require([\"vega-embed\"], displayChart, err => showError(`Error loading script: ${err.message}`));\n",
       "    } else if (typeof vegaEmbed === \"function\") {\n",
       "      displayChart(vegaEmbed);\n",
       "    } else {\n",
       "      loadScript(\"vega\")\n",
       "        .then(() => loadScript(\"vega-lite\"))\n",
       "        .then(() => loadScript(\"vega-embed\"))\n",
       "        .catch(showError)\n",
       "        .then(() => displayChart(vegaEmbed));\n",
       "    }\n",
       "  })({\"config\": {\"view\": {\"continuousWidth\": 400, \"continuousHeight\": 300}}, \"data\": {\"url\": \"https://cdn.jsdelivr.net/npm/vega-datasets@1/data/burtin.json\"}, \"mark\": \"circle\", \"encoding\": {\"x\": {\"type\": \"quantitative\", \"field\": \"Neomycin\", \"scale\": {\"type\": \"log\"}, \"sort\": \"descending\"}}, \"$schema\": \"https://vega.github.io/schema/vega-lite/v4.8.1.json\"}, {\"mode\": \"vega-lite\"});\n",
       "</script>"
      ],
      "text/plain": [
       "alt.Chart(...)"
      ]
     },
     "execution_count": 7,
     "metadata": {},
     "output_type": "execute_result"
    }
   ],
   "source": [
    "alt.Chart(antibiotics).mark_circle().encode(\n",
    "    alt.X('Neomycin:Q',\n",
    "          sort='descending',\n",
    "          scale=alt.Scale(type='log'))\n",
    ")"
   ]
  },
  {
   "cell_type": "markdown",
   "metadata": {
    "colab_type": "text",
    "id": "Wp2lmW6SXxcQ"
   },
   "source": [
    "_残念ながら、この軸は少し混乱を招き始めています。データを対数スケールでプロットし、逆方向に表示し、単位が明確に示されていないからです！_\n",
    "\n",
    "より情報豊かな軸タイトルを追加してみましょう。エンコーディングの`title`プロパティを使用して、目的のタイトルテキストを設定します。"
   ]
  },
  {
   "cell_type": "code",
   "execution_count": 8,
   "metadata": {
    "colab": {
     "base_uri": "https://localhost:8080/",
     "height": 87
    },
    "colab_type": "code",
    "id": "aP8fcU36L4iB",
    "outputId": "936f1956-ae09-492e-897d-027093205576"
   },
   "outputs": [
    {
     "data": {
      "text/html": [
       "\n",
       "<div id=\"altair-viz-a75664d0338f4917a99aec5c8441da6d\"></div>\n",
       "<script type=\"text/javascript\">\n",
       "  (function(spec, embedOpt){\n",
       "    let outputDiv = document.currentScript.previousElementSibling;\n",
       "    if (outputDiv.id !== \"altair-viz-a75664d0338f4917a99aec5c8441da6d\") {\n",
       "      outputDiv = document.getElementById(\"altair-viz-a75664d0338f4917a99aec5c8441da6d\");\n",
       "    }\n",
       "    const paths = {\n",
       "      \"vega\": \"https://cdn.jsdelivr.net/npm//vega@5?noext\",\n",
       "      \"vega-lib\": \"https://cdn.jsdelivr.net/npm//vega-lib?noext\",\n",
       "      \"vega-lite\": \"https://cdn.jsdelivr.net/npm//vega-lite@4.8.1?noext\",\n",
       "      \"vega-embed\": \"https://cdn.jsdelivr.net/npm//vega-embed@6?noext\",\n",
       "    };\n",
       "\n",
       "    function loadScript(lib) {\n",
       "      return new Promise(function(resolve, reject) {\n",
       "        var s = document.createElement('script');\n",
       "        s.src = paths[lib];\n",
       "        s.async = true;\n",
       "        s.onload = () => resolve(paths[lib]);\n",
       "        s.onerror = () => reject(`Error loading script: ${paths[lib]}`);\n",
       "        document.getElementsByTagName(\"head\")[0].appendChild(s);\n",
       "      });\n",
       "    }\n",
       "\n",
       "    function showError(err) {\n",
       "      outputDiv.innerHTML = `<div class=\"error\" style=\"color:red;\">${err}</div>`;\n",
       "      throw err;\n",
       "    }\n",
       "\n",
       "    function displayChart(vegaEmbed) {\n",
       "      vegaEmbed(outputDiv, spec, embedOpt)\n",
       "        .catch(err => showError(`Javascript Error: ${err.message}<br>This usually means there's a typo in your chart specification. See the javascript console for the full traceback.`));\n",
       "    }\n",
       "\n",
       "    if(typeof define === \"function\" && define.amd) {\n",
       "      requirejs.config({paths});\n",
       "      require([\"vega-embed\"], displayChart, err => showError(`Error loading script: ${err.message}`));\n",
       "    } else if (typeof vegaEmbed === \"function\") {\n",
       "      displayChart(vegaEmbed);\n",
       "    } else {\n",
       "      loadScript(\"vega\")\n",
       "        .then(() => loadScript(\"vega-lite\"))\n",
       "        .then(() => loadScript(\"vega-embed\"))\n",
       "        .catch(showError)\n",
       "        .then(() => displayChart(vegaEmbed));\n",
       "    }\n",
       "  })({\"config\": {\"view\": {\"continuousWidth\": 400, \"continuousHeight\": 300}}, \"data\": {\"url\": \"https://cdn.jsdelivr.net/npm/vega-datasets@1/data/burtin.json\"}, \"mark\": \"circle\", \"encoding\": {\"x\": {\"type\": \"quantitative\", \"field\": \"Neomycin\", \"scale\": {\"type\": \"log\"}, \"sort\": \"descending\", \"title\": \"Neomycin MIC (\\u03bcg/ml, reverse log scale)\"}}, \"$schema\": \"https://vega.github.io/schema/vega-lite/v4.8.1.json\"}, {\"mode\": \"vega-lite\"});\n",
       "</script>"
      ],
      "text/plain": [
       "alt.Chart(...)"
      ]
     },
     "execution_count": 8,
     "metadata": {},
     "output_type": "execute_result"
    }
   ],
   "source": [
    "alt.Chart(antibiotics).mark_circle().encode(\n",
    "    alt.X('Neomycin:Q',\n",
    "          sort='descending',\n",
    "          scale=alt.Scale(type='log'),\n",
    "          title='Neomycin MIC (μg/ml, reverse log scale)')\n",
    ")"
   ]
  },
  {
   "cell_type": "markdown",
   "metadata": {
    "colab_type": "text",
    "id": "9tpvPMM3YT2H"
   },
   "source": [
    "ずっと良くなりましたね！\n",
    "\n",
    "デフォルトでは、Altairはx軸をチャートの下部に配置します。このデフォルトを変更するには、`axis`属性を追加し、`orient='top'`を指定します。"
   ]
  },
  {
   "cell_type": "code",
   "execution_count": 9,
   "metadata": {
    "colab": {
     "base_uri": "https://localhost:8080/",
     "height": 87
    },
    "colab_type": "code",
    "id": "GMR7Tg4n-Vgu",
    "outputId": "053818a8-0e6c-4a7c-cb15-a0441406096b"
   },
   "outputs": [
    {
     "data": {
      "text/html": [
       "\n",
       "<div id=\"altair-viz-50725c1545994c61923e8f74f9ba06b6\"></div>\n",
       "<script type=\"text/javascript\">\n",
       "  (function(spec, embedOpt){\n",
       "    let outputDiv = document.currentScript.previousElementSibling;\n",
       "    if (outputDiv.id !== \"altair-viz-50725c1545994c61923e8f74f9ba06b6\") {\n",
       "      outputDiv = document.getElementById(\"altair-viz-50725c1545994c61923e8f74f9ba06b6\");\n",
       "    }\n",
       "    const paths = {\n",
       "      \"vega\": \"https://cdn.jsdelivr.net/npm//vega@5?noext\",\n",
       "      \"vega-lib\": \"https://cdn.jsdelivr.net/npm//vega-lib?noext\",\n",
       "      \"vega-lite\": \"https://cdn.jsdelivr.net/npm//vega-lite@4.8.1?noext\",\n",
       "      \"vega-embed\": \"https://cdn.jsdelivr.net/npm//vega-embed@6?noext\",\n",
       "    };\n",
       "\n",
       "    function loadScript(lib) {\n",
       "      return new Promise(function(resolve, reject) {\n",
       "        var s = document.createElement('script');\n",
       "        s.src = paths[lib];\n",
       "        s.async = true;\n",
       "        s.onload = () => resolve(paths[lib]);\n",
       "        s.onerror = () => reject(`Error loading script: ${paths[lib]}`);\n",
       "        document.getElementsByTagName(\"head\")[0].appendChild(s);\n",
       "      });\n",
       "    }\n",
       "\n",
       "    function showError(err) {\n",
       "      outputDiv.innerHTML = `<div class=\"error\" style=\"color:red;\">${err}</div>`;\n",
       "      throw err;\n",
       "    }\n",
       "\n",
       "    function displayChart(vegaEmbed) {\n",
       "      vegaEmbed(outputDiv, spec, embedOpt)\n",
       "        .catch(err => showError(`Javascript Error: ${err.message}<br>This usually means there's a typo in your chart specification. See the javascript console for the full traceback.`));\n",
       "    }\n",
       "\n",
       "    if(typeof define === \"function\" && define.amd) {\n",
       "      requirejs.config({paths});\n",
       "      require([\"vega-embed\"], displayChart, err => showError(`Error loading script: ${err.message}`));\n",
       "    } else if (typeof vegaEmbed === \"function\") {\n",
       "      displayChart(vegaEmbed);\n",
       "    } else {\n",
       "      loadScript(\"vega\")\n",
       "        .then(() => loadScript(\"vega-lite\"))\n",
       "        .then(() => loadScript(\"vega-embed\"))\n",
       "        .catch(showError)\n",
       "        .then(() => displayChart(vegaEmbed));\n",
       "    }\n",
       "  })({\"config\": {\"view\": {\"continuousWidth\": 400, \"continuousHeight\": 300}}, \"data\": {\"url\": \"https://cdn.jsdelivr.net/npm/vega-datasets@1/data/burtin.json\"}, \"mark\": \"circle\", \"encoding\": {\"x\": {\"type\": \"quantitative\", \"axis\": {\"orient\": \"top\"}, \"field\": \"Neomycin\", \"scale\": {\"type\": \"log\"}, \"sort\": \"descending\", \"title\": \"Neomycin MIC (\\u03bcg/ml, reverse log scale)\"}}, \"$schema\": \"https://vega.github.io/schema/vega-lite/v4.8.1.json\"}, {\"mode\": \"vega-lite\"});\n",
       "</script>"
      ],
      "text/plain": [
       "alt.Chart(...)"
      ]
     },
     "execution_count": 9,
     "metadata": {},
     "output_type": "execute_result"
    }
   ],
   "source": [
    "alt.Chart(antibiotics).mark_circle().encode(\n",
    "    alt.X('Neomycin:Q',\n",
    "          sort='descending',\n",
    "          scale=alt.Scale(type='log'),\n",
    "          axis=alt.Axis(orient='top'),\n",
    "          title='Neomycin MIC (μg/ml, reverse log scale)')\n",
    ")"
   ]
  },
  {
   "cell_type": "markdown",
   "metadata": {
    "colab_type": "text",
    "id": "opQaDD-g-btc"
   },
   "source": [
    "同様に、y軸はデフォルトで`'left'`（左側）に配置されますが、`'right'`（右側）に設定することもできます。"
   ]
  },
  {
   "cell_type": "markdown",
   "metadata": {
    "colab_type": "text",
    "id": "l1WXNzJC9hxi"
   },
   "source": [
    "### 抗生物質の比較：グリッドライン、目盛りの数、およびサイズの調整\n",
    "\n",
    "_Neomycinは、streptomycinやpenicillinのような他の抗生物質とどのように比較されるのでしょうか？_\n",
    "\n",
    "この質問に答え始めるために、散布図を作成し、y軸に別の抗生物質のエンコーディングを追加します。これは、x軸に設定したneomycinのデザインを反映させたものです。"
   ]
  },
  {
   "cell_type": "code",
   "execution_count": 10,
   "metadata": {
    "colab": {
     "base_uri": "https://localhost:8080/",
     "height": 372
    },
    "colab_type": "code",
    "id": "CjDce4pG_SXP",
    "outputId": "9459f0fb-088e-4e60-92f3-5f7992b3509d"
   },
   "outputs": [
    {
     "data": {
      "text/html": [
       "\n",
       "<div id=\"altair-viz-663da984e7c44796ab468adf97189e60\"></div>\n",
       "<script type=\"text/javascript\">\n",
       "  (function(spec, embedOpt){\n",
       "    let outputDiv = document.currentScript.previousElementSibling;\n",
       "    if (outputDiv.id !== \"altair-viz-663da984e7c44796ab468adf97189e60\") {\n",
       "      outputDiv = document.getElementById(\"altair-viz-663da984e7c44796ab468adf97189e60\");\n",
       "    }\n",
       "    const paths = {\n",
       "      \"vega\": \"https://cdn.jsdelivr.net/npm//vega@5?noext\",\n",
       "      \"vega-lib\": \"https://cdn.jsdelivr.net/npm//vega-lib?noext\",\n",
       "      \"vega-lite\": \"https://cdn.jsdelivr.net/npm//vega-lite@4.8.1?noext\",\n",
       "      \"vega-embed\": \"https://cdn.jsdelivr.net/npm//vega-embed@6?noext\",\n",
       "    };\n",
       "\n",
       "    function loadScript(lib) {\n",
       "      return new Promise(function(resolve, reject) {\n",
       "        var s = document.createElement('script');\n",
       "        s.src = paths[lib];\n",
       "        s.async = true;\n",
       "        s.onload = () => resolve(paths[lib]);\n",
       "        s.onerror = () => reject(`Error loading script: ${paths[lib]}`);\n",
       "        document.getElementsByTagName(\"head\")[0].appendChild(s);\n",
       "      });\n",
       "    }\n",
       "\n",
       "    function showError(err) {\n",
       "      outputDiv.innerHTML = `<div class=\"error\" style=\"color:red;\">${err}</div>`;\n",
       "      throw err;\n",
       "    }\n",
       "\n",
       "    function displayChart(vegaEmbed) {\n",
       "      vegaEmbed(outputDiv, spec, embedOpt)\n",
       "        .catch(err => showError(`Javascript Error: ${err.message}<br>This usually means there's a typo in your chart specification. See the javascript console for the full traceback.`));\n",
       "    }\n",
       "\n",
       "    if(typeof define === \"function\" && define.amd) {\n",
       "      requirejs.config({paths});\n",
       "      require([\"vega-embed\"], displayChart, err => showError(`Error loading script: ${err.message}`));\n",
       "    } else if (typeof vegaEmbed === \"function\") {\n",
       "      displayChart(vegaEmbed);\n",
       "    } else {\n",
       "      loadScript(\"vega\")\n",
       "        .then(() => loadScript(\"vega-lite\"))\n",
       "        .then(() => loadScript(\"vega-embed\"))\n",
       "        .catch(showError)\n",
       "        .then(() => displayChart(vegaEmbed));\n",
       "    }\n",
       "  })({\"config\": {\"view\": {\"continuousWidth\": 400, \"continuousHeight\": 300}}, \"data\": {\"url\": \"https://cdn.jsdelivr.net/npm/vega-datasets@1/data/burtin.json\"}, \"mark\": \"circle\", \"encoding\": {\"x\": {\"type\": \"quantitative\", \"field\": \"Neomycin\", \"scale\": {\"type\": \"log\"}, \"sort\": \"descending\", \"title\": \"Neomycin MIC (\\u03bcg/ml, reverse log scale)\"}, \"y\": {\"type\": \"quantitative\", \"field\": \"Streptomycin\", \"scale\": {\"type\": \"log\"}, \"sort\": \"descending\", \"title\": \"Streptomycin MIC (\\u03bcg/ml, reverse log scale)\"}}, \"$schema\": \"https://vega.github.io/schema/vega-lite/v4.8.1.json\"}, {\"mode\": \"vega-lite\"});\n",
       "</script>"
      ],
      "text/plain": [
       "alt.Chart(...)"
      ]
     },
     "execution_count": 10,
     "metadata": {},
     "output_type": "execute_result"
    }
   ],
   "source": [
    "alt.Chart(antibiotics).mark_circle().encode(\n",
    "    alt.X('Neomycin:Q',\n",
    "          sort='descending',\n",
    "          scale=alt.Scale(type='log'),\n",
    "          title='Neomycin MIC (μg/ml, reverse log scale)'),\n",
    "    alt.Y('Streptomycin:Q',\n",
    "          sort='descending',\n",
    "          scale=alt.Scale(type='log'),\n",
    "          title='Streptomycin MIC (μg/ml, reverse log scale)')\n",
    ")"
   ]
  },
  {
   "cell_type": "markdown",
   "metadata": {
    "colab_type": "text",
    "id": "DnfjvOKo_VI2"
   },
   "source": [
    "_Neomycinとstreptomycinは高い相関があるようで、細菌株が両方の抗生物質に対して類似した反応を示していることがわかります。_\n",
    "\n",
    "次に、neomycinとpenicillinを比較してみましょう："
   ]
  },
  {
   "cell_type": "code",
   "execution_count": 11,
   "metadata": {
    "colab": {
     "base_uri": "https://localhost:8080/",
     "height": 372
    },
    "colab_type": "code",
    "id": "hqc6DFgvNHAT",
    "outputId": "6713ba6b-8879-43be-e7ed-4340974b2c20"
   },
   "outputs": [
    {
     "data": {
      "text/html": [
       "\n",
       "<div id=\"altair-viz-97bb4822cd924cfe893271edc259b4d5\"></div>\n",
       "<script type=\"text/javascript\">\n",
       "  (function(spec, embedOpt){\n",
       "    let outputDiv = document.currentScript.previousElementSibling;\n",
       "    if (outputDiv.id !== \"altair-viz-97bb4822cd924cfe893271edc259b4d5\") {\n",
       "      outputDiv = document.getElementById(\"altair-viz-97bb4822cd924cfe893271edc259b4d5\");\n",
       "    }\n",
       "    const paths = {\n",
       "      \"vega\": \"https://cdn.jsdelivr.net/npm//vega@5?noext\",\n",
       "      \"vega-lib\": \"https://cdn.jsdelivr.net/npm//vega-lib?noext\",\n",
       "      \"vega-lite\": \"https://cdn.jsdelivr.net/npm//vega-lite@4.8.1?noext\",\n",
       "      \"vega-embed\": \"https://cdn.jsdelivr.net/npm//vega-embed@6?noext\",\n",
       "    };\n",
       "\n",
       "    function loadScript(lib) {\n",
       "      return new Promise(function(resolve, reject) {\n",
       "        var s = document.createElement('script');\n",
       "        s.src = paths[lib];\n",
       "        s.async = true;\n",
       "        s.onload = () => resolve(paths[lib]);\n",
       "        s.onerror = () => reject(`Error loading script: ${paths[lib]}`);\n",
       "        document.getElementsByTagName(\"head\")[0].appendChild(s);\n",
       "      });\n",
       "    }\n",
       "\n",
       "    function showError(err) {\n",
       "      outputDiv.innerHTML = `<div class=\"error\" style=\"color:red;\">${err}</div>`;\n",
       "      throw err;\n",
       "    }\n",
       "\n",
       "    function displayChart(vegaEmbed) {\n",
       "      vegaEmbed(outputDiv, spec, embedOpt)\n",
       "        .catch(err => showError(`Javascript Error: ${err.message}<br>This usually means there's a typo in your chart specification. See the javascript console for the full traceback.`));\n",
       "    }\n",
       "\n",
       "    if(typeof define === \"function\" && define.amd) {\n",
       "      requirejs.config({paths});\n",
       "      require([\"vega-embed\"], displayChart, err => showError(`Error loading script: ${err.message}`));\n",
       "    } else if (typeof vegaEmbed === \"function\") {\n",
       "      displayChart(vegaEmbed);\n",
       "    } else {\n",
       "      loadScript(\"vega\")\n",
       "        .then(() => loadScript(\"vega-lite\"))\n",
       "        .then(() => loadScript(\"vega-embed\"))\n",
       "        .catch(showError)\n",
       "        .then(() => displayChart(vegaEmbed));\n",
       "    }\n",
       "  })({\"config\": {\"view\": {\"continuousWidth\": 400, \"continuousHeight\": 300}}, \"data\": {\"url\": \"https://cdn.jsdelivr.net/npm/vega-datasets@1/data/burtin.json\"}, \"mark\": \"circle\", \"encoding\": {\"x\": {\"type\": \"quantitative\", \"field\": \"Neomycin\", \"scale\": {\"type\": \"log\"}, \"sort\": \"descending\", \"title\": \"Neomycin MIC (\\u03bcg/ml, reverse log scale)\"}, \"y\": {\"type\": \"quantitative\", \"field\": \"Penicillin\", \"scale\": {\"type\": \"log\"}, \"sort\": \"descending\", \"title\": \"Penicillin MIC (\\u03bcg/ml, reverse log scale)\"}}, \"$schema\": \"https://vega.github.io/schema/vega-lite/v4.8.1.json\"}, {\"mode\": \"vega-lite\"});\n",
       "</script>"
      ],
      "text/plain": [
       "alt.Chart(...)"
      ]
     },
     "execution_count": 11,
     "metadata": {},
     "output_type": "execute_result"
    }
   ],
   "source": [
    "alt.Chart(antibiotics).mark_circle().encode(\n",
    "    alt.X('Neomycin:Q',\n",
    "          sort='descending',\n",
    "          scale=alt.Scale(type='log'),\n",
    "          title='Neomycin MIC (μg/ml, reverse log scale)'),\n",
    "    alt.Y('Penicillin:Q',\n",
    "          sort='descending',\n",
    "          scale=alt.Scale(type='log'),\n",
    "          title='Penicillin MIC (μg/ml, reverse log scale)')\n",
    ")"
   ]
  },
  {
   "cell_type": "markdown",
   "metadata": {
    "colab_type": "text",
    "id": "fSdm-7VjYjij"
   },
   "source": [
    "_ここでは、より区別された反応が見られます。一部の細菌はneomycinにはよく反応するがpenicillinには反応せず、その逆も見られます！_\n",
    "\n",
    "このプロットは有用ですが、さらに改善できます。x軸とy軸は同じ単位を使用していますが、範囲（幅が高さより大きい）やドメイン（x軸は0.001から100、y軸は0.001から1,000）が異なります。\n",
    "\n",
    "軸を統一してみましょう。チャートに明示的な`width`と`height`の設定を追加し、スケールの`domain`プロパティを使用して一致するドメインを指定します。"
   ]
  },
  {
   "cell_type": "code",
   "execution_count": 12,
   "metadata": {
    "colab": {
     "base_uri": "https://localhost:8080/",
     "height": 322
    },
    "colab_type": "code",
    "id": "8HdsAzWBNVoB",
    "outputId": "2701bbff-a789-4eb0-f6bd-3f66565be916"
   },
   "outputs": [
    {
     "data": {
      "text/html": [
       "\n",
       "<div id=\"altair-viz-2cbd1be008ac42269d6ec8cad97d3026\"></div>\n",
       "<script type=\"text/javascript\">\n",
       "  (function(spec, embedOpt){\n",
       "    let outputDiv = document.currentScript.previousElementSibling;\n",
       "    if (outputDiv.id !== \"altair-viz-2cbd1be008ac42269d6ec8cad97d3026\") {\n",
       "      outputDiv = document.getElementById(\"altair-viz-2cbd1be008ac42269d6ec8cad97d3026\");\n",
       "    }\n",
       "    const paths = {\n",
       "      \"vega\": \"https://cdn.jsdelivr.net/npm//vega@5?noext\",\n",
       "      \"vega-lib\": \"https://cdn.jsdelivr.net/npm//vega-lib?noext\",\n",
       "      \"vega-lite\": \"https://cdn.jsdelivr.net/npm//vega-lite@4.8.1?noext\",\n",
       "      \"vega-embed\": \"https://cdn.jsdelivr.net/npm//vega-embed@6?noext\",\n",
       "    };\n",
       "\n",
       "    function loadScript(lib) {\n",
       "      return new Promise(function(resolve, reject) {\n",
       "        var s = document.createElement('script');\n",
       "        s.src = paths[lib];\n",
       "        s.async = true;\n",
       "        s.onload = () => resolve(paths[lib]);\n",
       "        s.onerror = () => reject(`Error loading script: ${paths[lib]}`);\n",
       "        document.getElementsByTagName(\"head\")[0].appendChild(s);\n",
       "      });\n",
       "    }\n",
       "\n",
       "    function showError(err) {\n",
       "      outputDiv.innerHTML = `<div class=\"error\" style=\"color:red;\">${err}</div>`;\n",
       "      throw err;\n",
       "    }\n",
       "\n",
       "    function displayChart(vegaEmbed) {\n",
       "      vegaEmbed(outputDiv, spec, embedOpt)\n",
       "        .catch(err => showError(`Javascript Error: ${err.message}<br>This usually means there's a typo in your chart specification. See the javascript console for the full traceback.`));\n",
       "    }\n",
       "\n",
       "    if(typeof define === \"function\" && define.amd) {\n",
       "      requirejs.config({paths});\n",
       "      require([\"vega-embed\"], displayChart, err => showError(`Error loading script: ${err.message}`));\n",
       "    } else if (typeof vegaEmbed === \"function\") {\n",
       "      displayChart(vegaEmbed);\n",
       "    } else {\n",
       "      loadScript(\"vega\")\n",
       "        .then(() => loadScript(\"vega-lite\"))\n",
       "        .then(() => loadScript(\"vega-embed\"))\n",
       "        .catch(showError)\n",
       "        .then(() => displayChart(vegaEmbed));\n",
       "    }\n",
       "  })({\"config\": {\"view\": {\"continuousWidth\": 400, \"continuousHeight\": 300}}, \"data\": {\"url\": \"https://cdn.jsdelivr.net/npm/vega-datasets@1/data/burtin.json\"}, \"mark\": \"circle\", \"encoding\": {\"x\": {\"type\": \"quantitative\", \"field\": \"Neomycin\", \"scale\": {\"domain\": [0.001, 1000], \"type\": \"log\"}, \"sort\": \"descending\", \"title\": \"Neomycin MIC (\\u03bcg/ml, reverse log scale)\"}, \"y\": {\"type\": \"quantitative\", \"field\": \"Penicillin\", \"scale\": {\"domain\": [0.001, 1000], \"type\": \"log\"}, \"sort\": \"descending\", \"title\": \"Penicillin MIC (\\u03bcg/ml, reverse log scale)\"}}, \"height\": 250, \"width\": 250, \"$schema\": \"https://vega.github.io/schema/vega-lite/v4.8.1.json\"}, {\"mode\": \"vega-lite\"});\n",
       "</script>"
      ],
      "text/plain": [
       "alt.Chart(...)"
      ]
     },
     "execution_count": 12,
     "metadata": {},
     "output_type": "execute_result"
    }
   ],
   "source": [
    "alt.Chart(antibiotics).mark_circle().encode(\n",
    "    alt.X('Neomycin:Q',\n",
    "          sort='descending',\n",
    "          scale=alt.Scale(type='log', domain=[0.001, 1000]),\n",
    "          title='Neomycin MIC (μg/ml, reverse log scale)'),\n",
    "    alt.Y('Penicillin:Q',\n",
    "          sort='descending',\n",
    "          scale=alt.Scale(type='log', domain=[0.001, 1000]),\n",
    "          title='Penicillin MIC (μg/ml, reverse log scale)')\n",
    ").properties(width=250, height=250)"
   ]
  },
  {
   "cell_type": "markdown",
   "metadata": {
    "colab_type": "text",
    "id": "oknzZZ-lZYaH"
   },
   "source": [
    "_このプロットはよりバランスが取れており、微妙な誤解を招きにくくなりました！_\n",
    "\n",
    "しかし、現在のグリッドラインはやや密集しています。グリッドラインを完全に削除したい場合は、`axis`属性に`grid=False`を追加できます。しかし、代わりに目盛り線の数を減らし、例えば桁ごとにグリッドラインを含めたい場合はどうすればよいでしょうか？\n",
    "\n",
    "目盛りの数を変更するには、`Axis`オブジェクトの`tickCount`プロパティで目標とする目盛り数を指定できます。`tickCount`はAltairにとって*提案*として扱われ、人間に優しい間隔など他の要素と一緒に考慮されます。正確に指定した目盛りの数を得られるわけではありませんが、近いものが得られるはずです。"
   ]
  },
  {
   "cell_type": "code",
   "execution_count": 13,
   "metadata": {
    "colab": {
     "base_uri": "https://localhost:8080/",
     "height": 322
    },
    "colab_type": "code",
    "id": "v4Awwd_kN_bf",
    "outputId": "b047adfe-6491-44f4-d84b-8e22836ad923"
   },
   "outputs": [
    {
     "data": {
      "text/html": [
       "\n",
       "<div id=\"altair-viz-bd5d6ea0e78e4220814bdf81e7d7dec3\"></div>\n",
       "<script type=\"text/javascript\">\n",
       "  (function(spec, embedOpt){\n",
       "    let outputDiv = document.currentScript.previousElementSibling;\n",
       "    if (outputDiv.id !== \"altair-viz-bd5d6ea0e78e4220814bdf81e7d7dec3\") {\n",
       "      outputDiv = document.getElementById(\"altair-viz-bd5d6ea0e78e4220814bdf81e7d7dec3\");\n",
       "    }\n",
       "    const paths = {\n",
       "      \"vega\": \"https://cdn.jsdelivr.net/npm//vega@5?noext\",\n",
       "      \"vega-lib\": \"https://cdn.jsdelivr.net/npm//vega-lib?noext\",\n",
       "      \"vega-lite\": \"https://cdn.jsdelivr.net/npm//vega-lite@4.8.1?noext\",\n",
       "      \"vega-embed\": \"https://cdn.jsdelivr.net/npm//vega-embed@6?noext\",\n",
       "    };\n",
       "\n",
       "    function loadScript(lib) {\n",
       "      return new Promise(function(resolve, reject) {\n",
       "        var s = document.createElement('script');\n",
       "        s.src = paths[lib];\n",
       "        s.async = true;\n",
       "        s.onload = () => resolve(paths[lib]);\n",
       "        s.onerror = () => reject(`Error loading script: ${paths[lib]}`);\n",
       "        document.getElementsByTagName(\"head\")[0].appendChild(s);\n",
       "      });\n",
       "    }\n",
       "\n",
       "    function showError(err) {\n",
       "      outputDiv.innerHTML = `<div class=\"error\" style=\"color:red;\">${err}</div>`;\n",
       "      throw err;\n",
       "    }\n",
       "\n",
       "    function displayChart(vegaEmbed) {\n",
       "      vegaEmbed(outputDiv, spec, embedOpt)\n",
       "        .catch(err => showError(`Javascript Error: ${err.message}<br>This usually means there's a typo in your chart specification. See the javascript console for the full traceback.`));\n",
       "    }\n",
       "\n",
       "    if(typeof define === \"function\" && define.amd) {\n",
       "      requirejs.config({paths});\n",
       "      require([\"vega-embed\"], displayChart, err => showError(`Error loading script: ${err.message}`));\n",
       "    } else if (typeof vegaEmbed === \"function\") {\n",
       "      displayChart(vegaEmbed);\n",
       "    } else {\n",
       "      loadScript(\"vega\")\n",
       "        .then(() => loadScript(\"vega-lite\"))\n",
       "        .then(() => loadScript(\"vega-embed\"))\n",
       "        .catch(showError)\n",
       "        .then(() => displayChart(vegaEmbed));\n",
       "    }\n",
       "  })({\"config\": {\"view\": {\"continuousWidth\": 400, \"continuousHeight\": 300}}, \"data\": {\"url\": \"https://cdn.jsdelivr.net/npm/vega-datasets@1/data/burtin.json\"}, \"mark\": \"circle\", \"encoding\": {\"x\": {\"type\": \"quantitative\", \"axis\": {\"tickCount\": 5}, \"field\": \"Neomycin\", \"scale\": {\"domain\": [0.001, 1000], \"type\": \"log\"}, \"sort\": \"descending\", \"title\": \"Neomycin MIC (\\u03bcg/ml, reverse log scale)\"}, \"y\": {\"type\": \"quantitative\", \"axis\": {\"tickCount\": 5}, \"field\": \"Penicillin\", \"scale\": {\"domain\": [0.001, 1000], \"type\": \"log\"}, \"sort\": \"descending\", \"title\": \"Penicillin MIC (\\u03bcg/ml, reverse log scale)\"}}, \"height\": 250, \"width\": 250, \"$schema\": \"https://vega.github.io/schema/vega-lite/v4.8.1.json\"}, {\"mode\": \"vega-lite\"});\n",
       "</script>"
      ],
      "text/plain": [
       "alt.Chart(...)"
      ]
     },
     "execution_count": 13,
     "metadata": {},
     "output_type": "execute_result"
    }
   ],
   "source": [
    "alt.Chart(antibiotics).mark_circle().encode(\n",
    "    alt.X('Neomycin:Q',\n",
    "          sort='descending',\n",
    "          scale=alt.Scale(type='log', domain=[0.001, 1000]),\n",
    "          axis=alt.Axis(tickCount=5),\n",
    "          title='Neomycin MIC (μg/ml, reverse log scale)'),\n",
    "    alt.Y('Penicillin:Q',\n",
    "          sort='descending',\n",
    "          scale=alt.Scale(type='log', domain=[0.001, 1000]),\n",
    "          axis=alt.Axis(tickCount=5),\n",
    "          title='Penicillin MIC (μg/ml, reverse log scale)')\n",
    ").properties(width=250, height=250)"
   ]
  },
  {
   "cell_type": "markdown",
   "metadata": {
    "colab_type": "text",
    "id": "upaCzdH7aIvu"
   },
   "source": [
    "`tickCount`を5に設定することで、目的の効果が得られました。\n",
    "\n",
    "散布図のポイントが少し小さく感じられます。デフォルトのサイズを変更するには、サークルマークの`size`プロパティを設定します。このサイズ値は、マークの*面積*をピクセル単位で指定します。"
   ]
  },
  {
   "cell_type": "code",
   "execution_count": 14,
   "metadata": {
    "colab": {
     "base_uri": "https://localhost:8080/",
     "height": 322
    },
    "colab_type": "code",
    "id": "aERDKc0KOhco",
    "outputId": "e3257bc3-40aa-4539-edea-a923c0329675"
   },
   "outputs": [
    {
     "data": {
      "text/html": [
       "\n",
       "<div id=\"altair-viz-d14b8b7e58924fca92933ade03f30edb\"></div>\n",
       "<script type=\"text/javascript\">\n",
       "  (function(spec, embedOpt){\n",
       "    let outputDiv = document.currentScript.previousElementSibling;\n",
       "    if (outputDiv.id !== \"altair-viz-d14b8b7e58924fca92933ade03f30edb\") {\n",
       "      outputDiv = document.getElementById(\"altair-viz-d14b8b7e58924fca92933ade03f30edb\");\n",
       "    }\n",
       "    const paths = {\n",
       "      \"vega\": \"https://cdn.jsdelivr.net/npm//vega@5?noext\",\n",
       "      \"vega-lib\": \"https://cdn.jsdelivr.net/npm//vega-lib?noext\",\n",
       "      \"vega-lite\": \"https://cdn.jsdelivr.net/npm//vega-lite@4.8.1?noext\",\n",
       "      \"vega-embed\": \"https://cdn.jsdelivr.net/npm//vega-embed@6?noext\",\n",
       "    };\n",
       "\n",
       "    function loadScript(lib) {\n",
       "      return new Promise(function(resolve, reject) {\n",
       "        var s = document.createElement('script');\n",
       "        s.src = paths[lib];\n",
       "        s.async = true;\n",
       "        s.onload = () => resolve(paths[lib]);\n",
       "        s.onerror = () => reject(`Error loading script: ${paths[lib]}`);\n",
       "        document.getElementsByTagName(\"head\")[0].appendChild(s);\n",
       "      });\n",
       "    }\n",
       "\n",
       "    function showError(err) {\n",
       "      outputDiv.innerHTML = `<div class=\"error\" style=\"color:red;\">${err}</div>`;\n",
       "      throw err;\n",
       "    }\n",
       "\n",
       "    function displayChart(vegaEmbed) {\n",
       "      vegaEmbed(outputDiv, spec, embedOpt)\n",
       "        .catch(err => showError(`Javascript Error: ${err.message}<br>This usually means there's a typo in your chart specification. See the javascript console for the full traceback.`));\n",
       "    }\n",
       "\n",
       "    if(typeof define === \"function\" && define.amd) {\n",
       "      requirejs.config({paths});\n",
       "      require([\"vega-embed\"], displayChart, err => showError(`Error loading script: ${err.message}`));\n",
       "    } else if (typeof vegaEmbed === \"function\") {\n",
       "      displayChart(vegaEmbed);\n",
       "    } else {\n",
       "      loadScript(\"vega\")\n",
       "        .then(() => loadScript(\"vega-lite\"))\n",
       "        .then(() => loadScript(\"vega-embed\"))\n",
       "        .catch(showError)\n",
       "        .then(() => displayChart(vegaEmbed));\n",
       "    }\n",
       "  })({\"config\": {\"view\": {\"continuousWidth\": 400, \"continuousHeight\": 300}}, \"data\": {\"url\": \"https://cdn.jsdelivr.net/npm/vega-datasets@1/data/burtin.json\"}, \"mark\": {\"type\": \"circle\", \"size\": 80}, \"encoding\": {\"x\": {\"type\": \"quantitative\", \"axis\": {\"tickCount\": 5}, \"field\": \"Neomycin\", \"scale\": {\"domain\": [0.001, 1000], \"type\": \"log\"}, \"sort\": \"descending\", \"title\": \"Neomycin MIC (\\u03bcg/ml, reverse log scale)\"}, \"y\": {\"type\": \"quantitative\", \"axis\": {\"tickCount\": 5}, \"field\": \"Penicillin\", \"scale\": {\"domain\": [0.001, 1000], \"type\": \"log\"}, \"sort\": \"descending\", \"title\": \"Penicillin MIC (\\u03bcg/ml, reverse log scale)\"}}, \"height\": 250, \"width\": 250, \"$schema\": \"https://vega.github.io/schema/vega-lite/v4.8.1.json\"}, {\"mode\": \"vega-lite\"});\n",
       "</script>"
      ],
      "text/plain": [
       "alt.Chart(...)"
      ]
     },
     "execution_count": 14,
     "metadata": {},
     "output_type": "execute_result"
    }
   ],
   "source": [
    "alt.Chart(antibiotics).mark_circle(size=80).encode(\n",
    "    alt.X('Neomycin:Q',\n",
    "          sort='descending',\n",
    "          scale=alt.Scale(type='log', domain=[0.001, 1000]),\n",
    "          axis=alt.Axis(tickCount=5),\n",
    "          title='Neomycin MIC (μg/ml, reverse log scale)'),\n",
    "    alt.Y('Penicillin:Q',\n",
    "          sort='descending',\n",
    "          scale=alt.Scale(type='log', domain=[0.001, 1000]),\n",
    "          axis=alt.Axis(tickCount=5),\n",
    "          title='Penicillin MIC (μg/ml, reverse log scale)'), \n",
    ").properties(width=250, height=250)"
   ]
  },
  {
   "cell_type": "markdown",
   "metadata": {
    "colab_type": "text",
    "id": "I-0rEs3lapPh"
   },
   "source": [
    "ここでは、サークルマークの面積を80ピクセルに設定しました。_必要に応じて値をさらに調整してください！_"
   ]
  },
  {
   "cell_type": "markdown",
   "metadata": {
    "colab_type": "text",
    "id": "AJ8dwejXO9cc"
   },
   "source": [
    "## 色凡例の設定"
   ]
  },
  {
   "cell_type": "markdown",
   "metadata": {
    "colab_type": "text",
    "id": "obwIbbZa_KNd"
   },
   "source": [
    "### グラム染色による色分け\n",
    "\n",
    "_上記では、neomycinが一部の細菌に対してより効果的であり、penicillinが他の細菌に対してより効果的であることがわかりました。しかし、特定の細菌種がわからない場合、どの抗生物質を使用すればよいかをどうやって判断すれば良いのでしょうか？グラム染色は、細菌の分類を区別する診断手法として役立ちます！_\n",
    "\n",
    "`Gram_Staining`を名義型データとして`color`チャネルにエンコードしてみましょう："
   ]
  },
  {
   "cell_type": "code",
   "execution_count": 15,
   "metadata": {
    "colab": {
     "base_uri": "https://localhost:8080/",
     "height": 322
    },
    "colab_type": "code",
    "id": "pkSc_PXyAuGg",
    "outputId": "01446cfb-f968-4dfb-c695-4372f55bd5f1"
   },
   "outputs": [
    {
     "data": {
      "text/html": [
       "\n",
       "<div id=\"altair-viz-e6511d5da0784519aa6f3f66334045ff\"></div>\n",
       "<script type=\"text/javascript\">\n",
       "  (function(spec, embedOpt){\n",
       "    let outputDiv = document.currentScript.previousElementSibling;\n",
       "    if (outputDiv.id !== \"altair-viz-e6511d5da0784519aa6f3f66334045ff\") {\n",
       "      outputDiv = document.getElementById(\"altair-viz-e6511d5da0784519aa6f3f66334045ff\");\n",
       "    }\n",
       "    const paths = {\n",
       "      \"vega\": \"https://cdn.jsdelivr.net/npm//vega@5?noext\",\n",
       "      \"vega-lib\": \"https://cdn.jsdelivr.net/npm//vega-lib?noext\",\n",
       "      \"vega-lite\": \"https://cdn.jsdelivr.net/npm//vega-lite@4.8.1?noext\",\n",
       "      \"vega-embed\": \"https://cdn.jsdelivr.net/npm//vega-embed@6?noext\",\n",
       "    };\n",
       "\n",
       "    function loadScript(lib) {\n",
       "      return new Promise(function(resolve, reject) {\n",
       "        var s = document.createElement('script');\n",
       "        s.src = paths[lib];\n",
       "        s.async = true;\n",
       "        s.onload = () => resolve(paths[lib]);\n",
       "        s.onerror = () => reject(`Error loading script: ${paths[lib]}`);\n",
       "        document.getElementsByTagName(\"head\")[0].appendChild(s);\n",
       "      });\n",
       "    }\n",
       "\n",
       "    function showError(err) {\n",
       "      outputDiv.innerHTML = `<div class=\"error\" style=\"color:red;\">${err}</div>`;\n",
       "      throw err;\n",
       "    }\n",
       "\n",
       "    function displayChart(vegaEmbed) {\n",
       "      vegaEmbed(outputDiv, spec, embedOpt)\n",
       "        .catch(err => showError(`Javascript Error: ${err.message}<br>This usually means there's a typo in your chart specification. See the javascript console for the full traceback.`));\n",
       "    }\n",
       "\n",
       "    if(typeof define === \"function\" && define.amd) {\n",
       "      requirejs.config({paths});\n",
       "      require([\"vega-embed\"], displayChart, err => showError(`Error loading script: ${err.message}`));\n",
       "    } else if (typeof vegaEmbed === \"function\") {\n",
       "      displayChart(vegaEmbed);\n",
       "    } else {\n",
       "      loadScript(\"vega\")\n",
       "        .then(() => loadScript(\"vega-lite\"))\n",
       "        .then(() => loadScript(\"vega-embed\"))\n",
       "        .catch(showError)\n",
       "        .then(() => displayChart(vegaEmbed));\n",
       "    }\n",
       "  })({\"config\": {\"view\": {\"continuousWidth\": 400, \"continuousHeight\": 300}}, \"data\": {\"url\": \"https://cdn.jsdelivr.net/npm/vega-datasets@1/data/burtin.json\"}, \"mark\": {\"type\": \"circle\", \"size\": 80}, \"encoding\": {\"color\": {\"type\": \"nominal\", \"field\": \"Gram_Staining\"}, \"x\": {\"type\": \"quantitative\", \"axis\": {\"tickCount\": 5}, \"field\": \"Neomycin\", \"scale\": {\"domain\": [0.001, 1000], \"type\": \"log\"}, \"sort\": \"descending\", \"title\": \"Neomycin MIC (\\u03bcg/ml, reverse log scale)\"}, \"y\": {\"type\": \"quantitative\", \"axis\": {\"tickCount\": 5}, \"field\": \"Penicillin\", \"scale\": {\"domain\": [0.001, 1000], \"type\": \"log\"}, \"sort\": \"descending\", \"title\": \"Penicillin MIC (\\u03bcg/ml, reverse log scale)\"}}, \"height\": 250, \"width\": 250, \"$schema\": \"https://vega.github.io/schema/vega-lite/v4.8.1.json\"}, {\"mode\": \"vega-lite\"});\n",
       "</script>"
      ],
      "text/plain": [
       "alt.Chart(...)"
      ]
     },
     "execution_count": 15,
     "metadata": {},
     "output_type": "execute_result"
    }
   ],
   "source": [
    "alt.Chart(antibiotics).mark_circle(size=80).encode(\n",
    "    alt.X('Neomycin:Q',\n",
    "          sort='descending',\n",
    "          scale=alt.Scale(type='log', domain=[0.001, 1000]),\n",
    "          axis=alt.Axis(tickCount=5),\n",
    "          title='Neomycin MIC (μg/ml, reverse log scale)'),\n",
    "    alt.Y('Penicillin:Q',\n",
    "          sort='descending',\n",
    "          scale=alt.Scale(type='log', domain=[0.001, 1000]),\n",
    "          axis=alt.Axis(tickCount=5),\n",
    "          title='Penicillin MIC (μg/ml, reverse log scale)'),\n",
    "    alt.Color('Gram_Staining:N')\n",
    ").properties(width=250, height=250)"
   ]
  },
  {
   "cell_type": "markdown",
   "metadata": {
    "colab_type": "text",
    "id": "a1Ec7fCUBQJn"
   },
   "source": [
    "_グラム陽性細菌はペニシリンに最も感受性が高く、グラム陰性細菌にはネオマイシンの方が効果的であるようです！_\n",
    "\n",
    "上記のカラースキームは、名義型データ（等しいか等しくないかの比較）のために知覚的に区別しやすい色を自動的に選択しています。しかし、使用する色をカスタマイズしたい場合があります。この場合、グラム染色の結果は[*物理的に特徴的な色分け*：グラム陰性はピンク、グラム陽性は紫](https://en.wikipedia.org/wiki/Gram_stain#/media/File:Gram_stain_01.jpg)となります。\n",
    "\n",
    "データの`domain`（ドメイン）から色の`range`（レンジ）への明示的なスケールマッピングを指定して、それらの色を使用してみましょう："
   ]
  },
  {
   "cell_type": "code",
   "execution_count": 16,
   "metadata": {
    "colab": {
     "base_uri": "https://localhost:8080/",
     "height": 322
    },
    "colab_type": "code",
    "id": "XA4UUWriCEox",
    "outputId": "f2ada6d0-d969-4927-a268-6f842c1b65ad"
   },
   "outputs": [
    {
     "data": {
      "text/html": [
       "\n",
       "<div id=\"altair-viz-b9b5ab500e594bef921b97af38ab46fe\"></div>\n",
       "<script type=\"text/javascript\">\n",
       "  (function(spec, embedOpt){\n",
       "    let outputDiv = document.currentScript.previousElementSibling;\n",
       "    if (outputDiv.id !== \"altair-viz-b9b5ab500e594bef921b97af38ab46fe\") {\n",
       "      outputDiv = document.getElementById(\"altair-viz-b9b5ab500e594bef921b97af38ab46fe\");\n",
       "    }\n",
       "    const paths = {\n",
       "      \"vega\": \"https://cdn.jsdelivr.net/npm//vega@5?noext\",\n",
       "      \"vega-lib\": \"https://cdn.jsdelivr.net/npm//vega-lib?noext\",\n",
       "      \"vega-lite\": \"https://cdn.jsdelivr.net/npm//vega-lite@4.8.1?noext\",\n",
       "      \"vega-embed\": \"https://cdn.jsdelivr.net/npm//vega-embed@6?noext\",\n",
       "    };\n",
       "\n",
       "    function loadScript(lib) {\n",
       "      return new Promise(function(resolve, reject) {\n",
       "        var s = document.createElement('script');\n",
       "        s.src = paths[lib];\n",
       "        s.async = true;\n",
       "        s.onload = () => resolve(paths[lib]);\n",
       "        s.onerror = () => reject(`Error loading script: ${paths[lib]}`);\n",
       "        document.getElementsByTagName(\"head\")[0].appendChild(s);\n",
       "      });\n",
       "    }\n",
       "\n",
       "    function showError(err) {\n",
       "      outputDiv.innerHTML = `<div class=\"error\" style=\"color:red;\">${err}</div>`;\n",
       "      throw err;\n",
       "    }\n",
       "\n",
       "    function displayChart(vegaEmbed) {\n",
       "      vegaEmbed(outputDiv, spec, embedOpt)\n",
       "        .catch(err => showError(`Javascript Error: ${err.message}<br>This usually means there's a typo in your chart specification. See the javascript console for the full traceback.`));\n",
       "    }\n",
       "\n",
       "    if(typeof define === \"function\" && define.amd) {\n",
       "      requirejs.config({paths});\n",
       "      require([\"vega-embed\"], displayChart, err => showError(`Error loading script: ${err.message}`));\n",
       "    } else if (typeof vegaEmbed === \"function\") {\n",
       "      displayChart(vegaEmbed);\n",
       "    } else {\n",
       "      loadScript(\"vega\")\n",
       "        .then(() => loadScript(\"vega-lite\"))\n",
       "        .then(() => loadScript(\"vega-embed\"))\n",
       "        .catch(showError)\n",
       "        .then(() => displayChart(vegaEmbed));\n",
       "    }\n",
       "  })({\"config\": {\"view\": {\"continuousWidth\": 400, \"continuousHeight\": 300}}, \"data\": {\"url\": \"https://cdn.jsdelivr.net/npm/vega-datasets@1/data/burtin.json\"}, \"mark\": {\"type\": \"circle\", \"size\": 80}, \"encoding\": {\"color\": {\"type\": \"nominal\", \"field\": \"Gram_Staining\", \"scale\": {\"domain\": [\"negative\", \"positive\"], \"range\": [\"hotpink\", \"purple\"]}}, \"x\": {\"type\": \"quantitative\", \"axis\": {\"tickCount\": 5}, \"field\": \"Neomycin\", \"scale\": {\"domain\": [0.001, 1000], \"type\": \"log\"}, \"sort\": \"descending\", \"title\": \"Neomycin MIC (\\u03bcg/ml, reverse log scale)\"}, \"y\": {\"type\": \"quantitative\", \"axis\": {\"tickCount\": 5}, \"field\": \"Penicillin\", \"scale\": {\"domain\": [0.001, 1000], \"type\": \"log\"}, \"sort\": \"descending\", \"title\": \"Penicillin MIC (\\u03bcg/ml, reverse log scale)\"}}, \"height\": 250, \"width\": 250, \"$schema\": \"https://vega.github.io/schema/vega-lite/v4.8.1.json\"}, {\"mode\": \"vega-lite\"});\n",
       "</script>"
      ],
      "text/plain": [
       "alt.Chart(...)"
      ]
     },
     "execution_count": 16,
     "metadata": {},
     "output_type": "execute_result"
    }
   ],
   "source": [
    "alt.Chart(antibiotics).mark_circle(size=80).encode(\n",
    "    alt.X('Neomycin:Q',\n",
    "          sort='descending',\n",
    "          scale=alt.Scale(type='log', domain=[0.001, 1000]),\n",
    "          axis=alt.Axis(tickCount=5),\n",
    "          title='Neomycin MIC (μg/ml, reverse log scale)'),\n",
    "    alt.Y('Penicillin:Q',\n",
    "          sort='descending',\n",
    "          scale=alt.Scale(type='log', domain=[0.001, 1000]),\n",
    "          axis=alt.Axis(tickCount=5),\n",
    "          title='Penicillin MIC (μg/ml, reverse log scale)'),\n",
    "    alt.Color('Gram_Staining:N',\n",
    "          scale=alt.Scale(domain=['negative', 'positive'], range=['hotpink', 'purple'])\n",
    "    )\n",
    ").properties(width=250, height=250)"
   ]
  },
  {
   "cell_type": "markdown",
   "metadata": {
    "colab_type": "text",
    "id": "cfgvdp8cBHmZ"
   },
   "source": [
    "デフォルトでは、凡例はチャートの右側に配置されます。軸と同様に、`orient`パラメータを使用して凡例の配置を変更できます。"
   ]
  },
  {
   "cell_type": "code",
   "execution_count": 17,
   "metadata": {
    "colab": {
     "base_uri": "https://localhost:8080/",
     "height": 322
    },
    "colab_type": "code",
    "id": "wlb7-9SNBUdZ",
    "outputId": "32b3e78c-7860-4ef4-850f-9af24cb58edd"
   },
   "outputs": [
    {
     "data": {
      "text/html": [
       "\n",
       "<div id=\"altair-viz-926618f4eb8a46119cafb645829470a5\"></div>\n",
       "<script type=\"text/javascript\">\n",
       "  (function(spec, embedOpt){\n",
       "    let outputDiv = document.currentScript.previousElementSibling;\n",
       "    if (outputDiv.id !== \"altair-viz-926618f4eb8a46119cafb645829470a5\") {\n",
       "      outputDiv = document.getElementById(\"altair-viz-926618f4eb8a46119cafb645829470a5\");\n",
       "    }\n",
       "    const paths = {\n",
       "      \"vega\": \"https://cdn.jsdelivr.net/npm//vega@5?noext\",\n",
       "      \"vega-lib\": \"https://cdn.jsdelivr.net/npm//vega-lib?noext\",\n",
       "      \"vega-lite\": \"https://cdn.jsdelivr.net/npm//vega-lite@4.8.1?noext\",\n",
       "      \"vega-embed\": \"https://cdn.jsdelivr.net/npm//vega-embed@6?noext\",\n",
       "    };\n",
       "\n",
       "    function loadScript(lib) {\n",
       "      return new Promise(function(resolve, reject) {\n",
       "        var s = document.createElement('script');\n",
       "        s.src = paths[lib];\n",
       "        s.async = true;\n",
       "        s.onload = () => resolve(paths[lib]);\n",
       "        s.onerror = () => reject(`Error loading script: ${paths[lib]}`);\n",
       "        document.getElementsByTagName(\"head\")[0].appendChild(s);\n",
       "      });\n",
       "    }\n",
       "\n",
       "    function showError(err) {\n",
       "      outputDiv.innerHTML = `<div class=\"error\" style=\"color:red;\">${err}</div>`;\n",
       "      throw err;\n",
       "    }\n",
       "\n",
       "    function displayChart(vegaEmbed) {\n",
       "      vegaEmbed(outputDiv, spec, embedOpt)\n",
       "        .catch(err => showError(`Javascript Error: ${err.message}<br>This usually means there's a typo in your chart specification. See the javascript console for the full traceback.`));\n",
       "    }\n",
       "\n",
       "    if(typeof define === \"function\" && define.amd) {\n",
       "      requirejs.config({paths});\n",
       "      require([\"vega-embed\"], displayChart, err => showError(`Error loading script: ${err.message}`));\n",
       "    } else if (typeof vegaEmbed === \"function\") {\n",
       "      displayChart(vegaEmbed);\n",
       "    } else {\n",
       "      loadScript(\"vega\")\n",
       "        .then(() => loadScript(\"vega-lite\"))\n",
       "        .then(() => loadScript(\"vega-embed\"))\n",
       "        .catch(showError)\n",
       "        .then(() => displayChart(vegaEmbed));\n",
       "    }\n",
       "  })({\"config\": {\"view\": {\"continuousWidth\": 400, \"continuousHeight\": 300}}, \"data\": {\"url\": \"https://cdn.jsdelivr.net/npm/vega-datasets@1/data/burtin.json\"}, \"mark\": {\"type\": \"circle\", \"size\": 80}, \"encoding\": {\"color\": {\"type\": \"nominal\", \"field\": \"Gram_Staining\", \"legend\": {\"orient\": \"left\"}, \"scale\": {\"domain\": [\"negative\", \"positive\"], \"range\": [\"hotpink\", \"purple\"]}}, \"x\": {\"type\": \"quantitative\", \"axis\": {\"tickCount\": 5}, \"field\": \"Neomycin\", \"scale\": {\"domain\": [0.001, 1000], \"type\": \"log\"}, \"sort\": \"descending\", \"title\": \"Neomycin MIC (\\u03bcg/ml, reverse log scale)\"}, \"y\": {\"type\": \"quantitative\", \"axis\": {\"tickCount\": 5}, \"field\": \"Penicillin\", \"scale\": {\"domain\": [0.001, 1000], \"type\": \"log\"}, \"sort\": \"descending\", \"title\": \"Penicillin MIC (\\u03bcg/ml, reverse log scale)\"}}, \"height\": 250, \"width\": 250, \"$schema\": \"https://vega.github.io/schema/vega-lite/v4.8.1.json\"}, {\"mode\": \"vega-lite\"});\n",
       "</script>"
      ],
      "text/plain": [
       "alt.Chart(...)"
      ]
     },
     "execution_count": 17,
     "metadata": {},
     "output_type": "execute_result"
    }
   ],
   "source": [
    "alt.Chart(antibiotics).mark_circle(size=80).encode(\n",
    "    alt.X('Neomycin:Q',\n",
    "          sort='descending',\n",
    "          scale=alt.Scale(type='log', domain=[0.001, 1000]),\n",
    "          axis=alt.Axis(tickCount=5),\n",
    "          title='Neomycin MIC (μg/ml, reverse log scale)'),\n",
    "    alt.Y('Penicillin:Q',\n",
    "          sort='descending',\n",
    "          scale=alt.Scale(type='log', domain=[0.001, 1000]),\n",
    "          axis=alt.Axis(tickCount=5),\n",
    "          title='Penicillin MIC (μg/ml, reverse log scale)'),\n",
    "    alt.Color('Gram_Staining:N',\n",
    "          scale=alt.Scale(domain=['negative', 'positive'], range=['hotpink', 'purple']),\n",
    "          legend=alt.Legend(orient='left')\n",
    "    )\n",
    ").properties(width=250, height=250)"
   ]
  },
  {
   "cell_type": "markdown",
   "metadata": {
    "colab_type": "text",
    "id": "nwoOrGb6BtrF"
   },
   "source": [
    "凡例を完全に削除するには、`legend=None`を指定します。"
   ]
  },
  {
   "cell_type": "code",
   "execution_count": 18,
   "metadata": {
    "colab": {
     "base_uri": "https://localhost:8080/",
     "height": 322
    },
    "colab_type": "code",
    "id": "YEcweSOABxss",
    "outputId": "a6e539ce-1b2c-4b6f-c504-edbeb659b5d4"
   },
   "outputs": [
    {
     "data": {
      "text/html": [
       "\n",
       "<div id=\"altair-viz-669b9e11bcc44cb6b7594d2818573cb9\"></div>\n",
       "<script type=\"text/javascript\">\n",
       "  (function(spec, embedOpt){\n",
       "    let outputDiv = document.currentScript.previousElementSibling;\n",
       "    if (outputDiv.id !== \"altair-viz-669b9e11bcc44cb6b7594d2818573cb9\") {\n",
       "      outputDiv = document.getElementById(\"altair-viz-669b9e11bcc44cb6b7594d2818573cb9\");\n",
       "    }\n",
       "    const paths = {\n",
       "      \"vega\": \"https://cdn.jsdelivr.net/npm//vega@5?noext\",\n",
       "      \"vega-lib\": \"https://cdn.jsdelivr.net/npm//vega-lib?noext\",\n",
       "      \"vega-lite\": \"https://cdn.jsdelivr.net/npm//vega-lite@4.8.1?noext\",\n",
       "      \"vega-embed\": \"https://cdn.jsdelivr.net/npm//vega-embed@6?noext\",\n",
       "    };\n",
       "\n",
       "    function loadScript(lib) {\n",
       "      return new Promise(function(resolve, reject) {\n",
       "        var s = document.createElement('script');\n",
       "        s.src = paths[lib];\n",
       "        s.async = true;\n",
       "        s.onload = () => resolve(paths[lib]);\n",
       "        s.onerror = () => reject(`Error loading script: ${paths[lib]}`);\n",
       "        document.getElementsByTagName(\"head\")[0].appendChild(s);\n",
       "      });\n",
       "    }\n",
       "\n",
       "    function showError(err) {\n",
       "      outputDiv.innerHTML = `<div class=\"error\" style=\"color:red;\">${err}</div>`;\n",
       "      throw err;\n",
       "    }\n",
       "\n",
       "    function displayChart(vegaEmbed) {\n",
       "      vegaEmbed(outputDiv, spec, embedOpt)\n",
       "        .catch(err => showError(`Javascript Error: ${err.message}<br>This usually means there's a typo in your chart specification. See the javascript console for the full traceback.`));\n",
       "    }\n",
       "\n",
       "    if(typeof define === \"function\" && define.amd) {\n",
       "      requirejs.config({paths});\n",
       "      require([\"vega-embed\"], displayChart, err => showError(`Error loading script: ${err.message}`));\n",
       "    } else if (typeof vegaEmbed === \"function\") {\n",
       "      displayChart(vegaEmbed);\n",
       "    } else {\n",
       "      loadScript(\"vega\")\n",
       "        .then(() => loadScript(\"vega-lite\"))\n",
       "        .then(() => loadScript(\"vega-embed\"))\n",
       "        .catch(showError)\n",
       "        .then(() => displayChart(vegaEmbed));\n",
       "    }\n",
       "  })({\"config\": {\"view\": {\"continuousWidth\": 400, \"continuousHeight\": 300}}, \"data\": {\"url\": \"https://cdn.jsdelivr.net/npm/vega-datasets@1/data/burtin.json\"}, \"mark\": {\"type\": \"circle\", \"size\": 80}, \"encoding\": {\"color\": {\"type\": \"nominal\", \"field\": \"Gram_Staining\", \"legend\": null, \"scale\": {\"domain\": [\"negative\", \"positive\"], \"range\": [\"hotpink\", \"purple\"]}}, \"x\": {\"type\": \"quantitative\", \"axis\": {\"tickCount\": 5}, \"field\": \"Neomycin\", \"scale\": {\"domain\": [0.001, 1000], \"type\": \"log\"}, \"sort\": \"descending\", \"title\": \"Neomycin MIC (\\u03bcg/ml, reverse log scale)\"}, \"y\": {\"type\": \"quantitative\", \"axis\": {\"tickCount\": 5}, \"field\": \"Penicillin\", \"scale\": {\"domain\": [0.001, 1000], \"type\": \"log\"}, \"sort\": \"descending\", \"title\": \"Penicillin MIC (\\u03bcg/ml, reverse log scale)\"}}, \"height\": 250, \"width\": 250, \"$schema\": \"https://vega.github.io/schema/vega-lite/v4.8.1.json\"}, {\"mode\": \"vega-lite\"});\n",
       "</script>"
      ],
      "text/plain": [
       "alt.Chart(...)"
      ]
     },
     "execution_count": 18,
     "metadata": {},
     "output_type": "execute_result"
    }
   ],
   "source": [
    "alt.Chart(antibiotics).mark_circle(size=80).encode(\n",
    "    alt.X('Neomycin:Q',\n",
    "          sort='descending',\n",
    "          scale=alt.Scale(type='log', domain=[0.001, 1000]),\n",
    "          axis=alt.Axis(tickCount=5),\n",
    "          title='Neomycin MIC (μg/ml, reverse log scale)'),\n",
    "    alt.Y('Penicillin:Q',\n",
    "          sort='descending',\n",
    "          scale=alt.Scale(type='log', domain=[0.001, 1000]),\n",
    "          axis=alt.Axis(tickCount=5),\n",
    "          title='Penicillin MIC (μg/ml, reverse log scale)'),\n",
    "    alt.Color('Gram_Staining:N',\n",
    "          scale=alt.Scale(domain=['negative', 'positive'], range=['hotpink', 'purple']),\n",
    "          legend=None\n",
    "    )\n",
    ").properties(width=250, height=250)"
   ]
  },
  {
   "cell_type": "markdown",
   "metadata": {
    "colab_type": "text",
    "id": "M64uVeFHDIlT"
   },
   "source": [
    "### 種ごとの色分け\n",
    "\n",
    "_これまで、抗生物質の有効性について考えてきました。次に視点を変えて、抗生物質の反応が異なる細菌種について私たちに何を教えてくれるかを考えてみましょう。_\n",
    "\n",
    "まず、名義型データフィールドである`Bacteria`を`color`チャネルでエンコードしてみましょう："
   ]
  },
  {
   "cell_type": "code",
   "execution_count": 19,
   "metadata": {
    "colab": {
     "base_uri": "https://localhost:8080/",
     "height": 322
    },
    "colab_type": "code",
    "id": "di1mU7ynOq0u",
    "outputId": "4d7a1300-79ea-429c-9a6a-4de170eabddf"
   },
   "outputs": [
    {
     "data": {
      "text/html": [
       "\n",
       "<div id=\"altair-viz-41e401c229584b32818ca4974bd7d73f\"></div>\n",
       "<script type=\"text/javascript\">\n",
       "  (function(spec, embedOpt){\n",
       "    let outputDiv = document.currentScript.previousElementSibling;\n",
       "    if (outputDiv.id !== \"altair-viz-41e401c229584b32818ca4974bd7d73f\") {\n",
       "      outputDiv = document.getElementById(\"altair-viz-41e401c229584b32818ca4974bd7d73f\");\n",
       "    }\n",
       "    const paths = {\n",
       "      \"vega\": \"https://cdn.jsdelivr.net/npm//vega@5?noext\",\n",
       "      \"vega-lib\": \"https://cdn.jsdelivr.net/npm//vega-lib?noext\",\n",
       "      \"vega-lite\": \"https://cdn.jsdelivr.net/npm//vega-lite@4.8.1?noext\",\n",
       "      \"vega-embed\": \"https://cdn.jsdelivr.net/npm//vega-embed@6?noext\",\n",
       "    };\n",
       "\n",
       "    function loadScript(lib) {\n",
       "      return new Promise(function(resolve, reject) {\n",
       "        var s = document.createElement('script');\n",
       "        s.src = paths[lib];\n",
       "        s.async = true;\n",
       "        s.onload = () => resolve(paths[lib]);\n",
       "        s.onerror = () => reject(`Error loading script: ${paths[lib]}`);\n",
       "        document.getElementsByTagName(\"head\")[0].appendChild(s);\n",
       "      });\n",
       "    }\n",
       "\n",
       "    function showError(err) {\n",
       "      outputDiv.innerHTML = `<div class=\"error\" style=\"color:red;\">${err}</div>`;\n",
       "      throw err;\n",
       "    }\n",
       "\n",
       "    function displayChart(vegaEmbed) {\n",
       "      vegaEmbed(outputDiv, spec, embedOpt)\n",
       "        .catch(err => showError(`Javascript Error: ${err.message}<br>This usually means there's a typo in your chart specification. See the javascript console for the full traceback.`));\n",
       "    }\n",
       "\n",
       "    if(typeof define === \"function\" && define.amd) {\n",
       "      requirejs.config({paths});\n",
       "      require([\"vega-embed\"], displayChart, err => showError(`Error loading script: ${err.message}`));\n",
       "    } else if (typeof vegaEmbed === \"function\") {\n",
       "      displayChart(vegaEmbed);\n",
       "    } else {\n",
       "      loadScript(\"vega\")\n",
       "        .then(() => loadScript(\"vega-lite\"))\n",
       "        .then(() => loadScript(\"vega-embed\"))\n",
       "        .catch(showError)\n",
       "        .then(() => displayChart(vegaEmbed));\n",
       "    }\n",
       "  })({\"config\": {\"view\": {\"continuousWidth\": 400, \"continuousHeight\": 300}}, \"data\": {\"url\": \"https://cdn.jsdelivr.net/npm/vega-datasets@1/data/burtin.json\"}, \"mark\": {\"type\": \"circle\", \"size\": 80}, \"encoding\": {\"color\": {\"type\": \"nominal\", \"field\": \"Bacteria\"}, \"x\": {\"type\": \"quantitative\", \"axis\": {\"tickCount\": 5}, \"field\": \"Neomycin\", \"scale\": {\"domain\": [0.001, 1000], \"type\": \"log\"}, \"sort\": \"descending\", \"title\": \"Neomycin MIC (\\u03bcg/ml, reverse log scale)\"}, \"y\": {\"type\": \"quantitative\", \"axis\": {\"tickCount\": 5}, \"field\": \"Penicillin\", \"scale\": {\"domain\": [0.001, 1000], \"type\": \"log\"}, \"sort\": \"descending\", \"title\": \"Penicillin MIC (\\u03bcg/ml, reverse log scale)\"}}, \"height\": 250, \"width\": 250, \"$schema\": \"https://vega.github.io/schema/vega-lite/v4.8.1.json\"}, {\"mode\": \"vega-lite\"});\n",
       "</script>"
      ],
      "text/plain": [
       "alt.Chart(...)"
      ]
     },
     "execution_count": 19,
     "metadata": {},
     "output_type": "execute_result"
    }
   ],
   "source": [
    "alt.Chart(antibiotics).mark_circle(size=80).encode(\n",
    "    alt.X('Neomycin:Q',\n",
    "          sort='descending',\n",
    "          scale=alt.Scale(type='log', domain=[0.001, 1000]),\n",
    "          axis=alt.Axis(tickCount=5),\n",
    "          title='Neomycin MIC (μg/ml, reverse log scale)'),\n",
    "    alt.Y('Penicillin:Q',\n",
    "          sort='descending',\n",
    "          scale=alt.Scale(type='log', domain=[0.001, 1000]),\n",
    "          axis=alt.Axis(tickCount=5),\n",
    "          title='Penicillin MIC (μg/ml, reverse log scale)'),\n",
    "    alt.Color('Bacteria:N')\n",
    ").properties(width=250, height=250)"
   ]
  },
  {
   "cell_type": "markdown",
   "metadata": {
    "colab_type": "text",
    "id": "8Z02YhSRa6aw"
   },
   "source": [
    "_結果は少し混乱しています！_ 細菌の種類が十分に多いため、Altairは名義値のデフォルト10色パレットを繰り返し使用しています。\n",
    "\n",
    "カスタムカラーを使用するには、色のエンコーディングの`scale`プロパティを更新できます。一つの方法は、上記のグラム染色の例と同様に、スケールの`domain`（ドメイン）と`range`（レンジ）の値を明示的に指定し、それぞれの値に対する正確な色のマッピングを示すことです。もう一つの方法は、代替のカラースキームを使用することです。Altairには、さまざまな組み込みのカラースキームが含まれています。完全なリストについては、[Vegaのカラースキームドキュメント](https://vega.github.io/vega/docs/schemes/#reference)を参照してください。\n",
    "\n",
    "組み込みの20色スキームである`tableau20`に切り替え、スケールの`scheme`プロパティを使用して設定してみましょう。"
   ]
  },
  {
   "cell_type": "code",
   "execution_count": 20,
   "metadata": {
    "colab": {
     "base_uri": "https://localhost:8080/",
     "height": 322
    },
    "colab_type": "code",
    "id": "wkt58FGQPCU2",
    "outputId": "365fc89f-4ab4-47aa-fe40-70f175c2c58d"
   },
   "outputs": [
    {
     "data": {
      "text/html": [
       "\n",
       "<div id=\"altair-viz-1909c97e588e4b269d06d48a8391a954\"></div>\n",
       "<script type=\"text/javascript\">\n",
       "  (function(spec, embedOpt){\n",
       "    let outputDiv = document.currentScript.previousElementSibling;\n",
       "    if (outputDiv.id !== \"altair-viz-1909c97e588e4b269d06d48a8391a954\") {\n",
       "      outputDiv = document.getElementById(\"altair-viz-1909c97e588e4b269d06d48a8391a954\");\n",
       "    }\n",
       "    const paths = {\n",
       "      \"vega\": \"https://cdn.jsdelivr.net/npm//vega@5?noext\",\n",
       "      \"vega-lib\": \"https://cdn.jsdelivr.net/npm//vega-lib?noext\",\n",
       "      \"vega-lite\": \"https://cdn.jsdelivr.net/npm//vega-lite@4.8.1?noext\",\n",
       "      \"vega-embed\": \"https://cdn.jsdelivr.net/npm//vega-embed@6?noext\",\n",
       "    };\n",
       "\n",
       "    function loadScript(lib) {\n",
       "      return new Promise(function(resolve, reject) {\n",
       "        var s = document.createElement('script');\n",
       "        s.src = paths[lib];\n",
       "        s.async = true;\n",
       "        s.onload = () => resolve(paths[lib]);\n",
       "        s.onerror = () => reject(`Error loading script: ${paths[lib]}`);\n",
       "        document.getElementsByTagName(\"head\")[0].appendChild(s);\n",
       "      });\n",
       "    }\n",
       "\n",
       "    function showError(err) {\n",
       "      outputDiv.innerHTML = `<div class=\"error\" style=\"color:red;\">${err}</div>`;\n",
       "      throw err;\n",
       "    }\n",
       "\n",
       "    function displayChart(vegaEmbed) {\n",
       "      vegaEmbed(outputDiv, spec, embedOpt)\n",
       "        .catch(err => showError(`Javascript Error: ${err.message}<br>This usually means there's a typo in your chart specification. See the javascript console for the full traceback.`));\n",
       "    }\n",
       "\n",
       "    if(typeof define === \"function\" && define.amd) {\n",
       "      requirejs.config({paths});\n",
       "      require([\"vega-embed\"], displayChart, err => showError(`Error loading script: ${err.message}`));\n",
       "    } else if (typeof vegaEmbed === \"function\") {\n",
       "      displayChart(vegaEmbed);\n",
       "    } else {\n",
       "      loadScript(\"vega\")\n",
       "        .then(() => loadScript(\"vega-lite\"))\n",
       "        .then(() => loadScript(\"vega-embed\"))\n",
       "        .catch(showError)\n",
       "        .then(() => displayChart(vegaEmbed));\n",
       "    }\n",
       "  })({\"config\": {\"view\": {\"continuousWidth\": 400, \"continuousHeight\": 300}}, \"data\": {\"url\": \"https://cdn.jsdelivr.net/npm/vega-datasets@1/data/burtin.json\"}, \"mark\": {\"type\": \"circle\", \"size\": 80}, \"encoding\": {\"color\": {\"type\": \"nominal\", \"field\": \"Bacteria\", \"scale\": {\"scheme\": \"tableau20\"}}, \"x\": {\"type\": \"quantitative\", \"axis\": {\"tickCount\": 5}, \"field\": \"Neomycin\", \"scale\": {\"domain\": [0.001, 1000], \"type\": \"log\"}, \"sort\": \"descending\", \"title\": \"Neomycin MIC (\\u03bcg/ml, reverse log scale)\"}, \"y\": {\"type\": \"quantitative\", \"axis\": {\"tickCount\": 5}, \"field\": \"Penicillin\", \"scale\": {\"domain\": [0.001, 1000], \"type\": \"log\"}, \"sort\": \"descending\", \"title\": \"Penicillin MIC (\\u03bcg/ml, reverse log scale)\"}}, \"height\": 250, \"width\": 250, \"$schema\": \"https://vega.github.io/schema/vega-lite/v4.8.1.json\"}, {\"mode\": \"vega-lite\"});\n",
       "</script>"
      ],
      "text/plain": [
       "alt.Chart(...)"
      ]
     },
     "execution_count": 20,
     "metadata": {},
     "output_type": "execute_result"
    }
   ],
   "source": [
    "alt.Chart(antibiotics).mark_circle(size=80).encode(\n",
    "    alt.X('Neomycin:Q',\n",
    "          sort='descending',\n",
    "          scale=alt.Scale(type='log', domain=[0.001, 1000]),\n",
    "          axis=alt.Axis(tickCount=5),\n",
    "          title='Neomycin MIC (μg/ml, reverse log scale)'),\n",
    "    alt.Y('Penicillin:Q',\n",
    "          sort='descending',\n",
    "          scale=alt.Scale(type='log', domain=[0.001, 1000]),\n",
    "          axis=alt.Axis(tickCount=5),\n",
    "          title='Penicillin MIC (μg/ml, reverse log scale)'),\n",
    "    alt.Color('Bacteria:N',\n",
    "          scale=alt.Scale(scheme='tableau20'))\n",
    ").properties(width=250, height=250)"
   ]
  },
  {
   "cell_type": "markdown",
   "metadata": {
    "colab_type": "text",
    "id": "28Hr54iIbwE4"
   },
   "source": [
    "_これで各細菌にユニークな色が割り当てられましたが、チャートはまだ混乱しています。特に問題なのは、エンコーディングが同じ属（genus）に属する細菌を考慮していない点です。例えば、上記のチャートでは、2つの異なるサルモネラ（Salmonella）株が非常に異なる色相（ティールとピンク）で表されていますが、生物学的には近い親戚です。_\n",
    "\n",
    "別のスキームを試すには、データ型を名義型（nominal）から順序型（ordinal）に変更することもできます。デフォルトの順序型スキームは、青の階調を使用し、薄い青から濃い青へと変化します："
   ]
  },
  {
   "cell_type": "code",
   "execution_count": 21,
   "metadata": {
    "colab": {
     "base_uri": "https://localhost:8080/",
     "height": 322
    },
    "colab_type": "code",
    "id": "L3XSjQqePa-z",
    "outputId": "dd1dad11-c74e-4339-9533-4cd195af12a2"
   },
   "outputs": [
    {
     "data": {
      "text/html": [
       "\n",
       "<div id=\"altair-viz-c125d935f71e4a3cbacf9320f45d5865\"></div>\n",
       "<script type=\"text/javascript\">\n",
       "  (function(spec, embedOpt){\n",
       "    let outputDiv = document.currentScript.previousElementSibling;\n",
       "    if (outputDiv.id !== \"altair-viz-c125d935f71e4a3cbacf9320f45d5865\") {\n",
       "      outputDiv = document.getElementById(\"altair-viz-c125d935f71e4a3cbacf9320f45d5865\");\n",
       "    }\n",
       "    const paths = {\n",
       "      \"vega\": \"https://cdn.jsdelivr.net/npm//vega@5?noext\",\n",
       "      \"vega-lib\": \"https://cdn.jsdelivr.net/npm//vega-lib?noext\",\n",
       "      \"vega-lite\": \"https://cdn.jsdelivr.net/npm//vega-lite@4.8.1?noext\",\n",
       "      \"vega-embed\": \"https://cdn.jsdelivr.net/npm//vega-embed@6?noext\",\n",
       "    };\n",
       "\n",
       "    function loadScript(lib) {\n",
       "      return new Promise(function(resolve, reject) {\n",
       "        var s = document.createElement('script');\n",
       "        s.src = paths[lib];\n",
       "        s.async = true;\n",
       "        s.onload = () => resolve(paths[lib]);\n",
       "        s.onerror = () => reject(`Error loading script: ${paths[lib]}`);\n",
       "        document.getElementsByTagName(\"head\")[0].appendChild(s);\n",
       "      });\n",
       "    }\n",
       "\n",
       "    function showError(err) {\n",
       "      outputDiv.innerHTML = `<div class=\"error\" style=\"color:red;\">${err}</div>`;\n",
       "      throw err;\n",
       "    }\n",
       "\n",
       "    function displayChart(vegaEmbed) {\n",
       "      vegaEmbed(outputDiv, spec, embedOpt)\n",
       "        .catch(err => showError(`Javascript Error: ${err.message}<br>This usually means there's a typo in your chart specification. See the javascript console for the full traceback.`));\n",
       "    }\n",
       "\n",
       "    if(typeof define === \"function\" && define.amd) {\n",
       "      requirejs.config({paths});\n",
       "      require([\"vega-embed\"], displayChart, err => showError(`Error loading script: ${err.message}`));\n",
       "    } else if (typeof vegaEmbed === \"function\") {\n",
       "      displayChart(vegaEmbed);\n",
       "    } else {\n",
       "      loadScript(\"vega\")\n",
       "        .then(() => loadScript(\"vega-lite\"))\n",
       "        .then(() => loadScript(\"vega-embed\"))\n",
       "        .catch(showError)\n",
       "        .then(() => displayChart(vegaEmbed));\n",
       "    }\n",
       "  })({\"config\": {\"view\": {\"continuousWidth\": 400, \"continuousHeight\": 300}}, \"data\": {\"url\": \"https://cdn.jsdelivr.net/npm/vega-datasets@1/data/burtin.json\"}, \"mark\": {\"type\": \"circle\", \"size\": 80}, \"encoding\": {\"color\": {\"type\": \"ordinal\", \"field\": \"Bacteria\"}, \"x\": {\"type\": \"quantitative\", \"axis\": {\"tickCount\": 5}, \"field\": \"Neomycin\", \"scale\": {\"domain\": [0.001, 1000], \"type\": \"log\"}, \"sort\": \"descending\", \"title\": \"Neomycin MIC (\\u03bcg/ml, reverse log scale)\"}, \"y\": {\"type\": \"quantitative\", \"axis\": {\"tickCount\": 5}, \"field\": \"Penicillin\", \"scale\": {\"domain\": [0.001, 1000], \"type\": \"log\"}, \"sort\": \"descending\", \"title\": \"Penicillin MIC (\\u03bcg/ml, reverse log scale)\"}}, \"height\": 250, \"width\": 250, \"$schema\": \"https://vega.github.io/schema/vega-lite/v4.8.1.json\"}, {\"mode\": \"vega-lite\"});\n",
       "</script>"
      ],
      "text/plain": [
       "alt.Chart(...)"
      ]
     },
     "execution_count": 21,
     "metadata": {},
     "output_type": "execute_result"
    }
   ],
   "source": [
    "alt.Chart(antibiotics).mark_circle(size=80).encode(\n",
    "    alt.X('Neomycin:Q',\n",
    "          sort='descending',\n",
    "          scale=alt.Scale(type='log', domain=[0.001, 1000]),\n",
    "          axis=alt.Axis(tickCount=5),\n",
    "          title='Neomycin MIC (μg/ml, reverse log scale)'),\n",
    "    alt.Y('Penicillin:Q',\n",
    "          sort='descending',\n",
    "          scale=alt.Scale(type='log', domain=[0.001, 1000]),\n",
    "          axis=alt.Axis(tickCount=5),\n",
    "          title='Penicillin MIC (μg/ml, reverse log scale)'),\n",
    "    alt.Color('Bacteria:O')\n",
    ").properties(width=250, height=250)"
   ]
  },
  {
   "cell_type": "markdown",
   "metadata": {
    "colab_type": "text",
    "id": "Me8FkMJlErIi"
   },
   "source": [
    "_Some of those blue shades may be hard to distinguish._\n",
    "\n",
    "For more differentiated colors, we can experiment with alternatives to the default `blues` color scheme. The `viridis` scheme ramps through both hue and luminance:"
   ]
  },
  {
   "cell_type": "code",
   "execution_count": 22,
   "metadata": {
    "colab": {
     "base_uri": "https://localhost:8080/",
     "height": 322
    },
    "colab_type": "code",
    "id": "r7Jb5izEE1b4",
    "outputId": "3927106a-dd42-43c5-847a-4f030b467c4c"
   },
   "outputs": [
    {
     "data": {
      "text/html": [
       "\n",
       "<div id=\"altair-viz-91fa82ff61c247e3834cf6cb0605f760\"></div>\n",
       "<script type=\"text/javascript\">\n",
       "  (function(spec, embedOpt){\n",
       "    let outputDiv = document.currentScript.previousElementSibling;\n",
       "    if (outputDiv.id !== \"altair-viz-91fa82ff61c247e3834cf6cb0605f760\") {\n",
       "      outputDiv = document.getElementById(\"altair-viz-91fa82ff61c247e3834cf6cb0605f760\");\n",
       "    }\n",
       "    const paths = {\n",
       "      \"vega\": \"https://cdn.jsdelivr.net/npm//vega@5?noext\",\n",
       "      \"vega-lib\": \"https://cdn.jsdelivr.net/npm//vega-lib?noext\",\n",
       "      \"vega-lite\": \"https://cdn.jsdelivr.net/npm//vega-lite@4.8.1?noext\",\n",
       "      \"vega-embed\": \"https://cdn.jsdelivr.net/npm//vega-embed@6?noext\",\n",
       "    };\n",
       "\n",
       "    function loadScript(lib) {\n",
       "      return new Promise(function(resolve, reject) {\n",
       "        var s = document.createElement('script');\n",
       "        s.src = paths[lib];\n",
       "        s.async = true;\n",
       "        s.onload = () => resolve(paths[lib]);\n",
       "        s.onerror = () => reject(`Error loading script: ${paths[lib]}`);\n",
       "        document.getElementsByTagName(\"head\")[0].appendChild(s);\n",
       "      });\n",
       "    }\n",
       "\n",
       "    function showError(err) {\n",
       "      outputDiv.innerHTML = `<div class=\"error\" style=\"color:red;\">${err}</div>`;\n",
       "      throw err;\n",
       "    }\n",
       "\n",
       "    function displayChart(vegaEmbed) {\n",
       "      vegaEmbed(outputDiv, spec, embedOpt)\n",
       "        .catch(err => showError(`Javascript Error: ${err.message}<br>This usually means there's a typo in your chart specification. See the javascript console for the full traceback.`));\n",
       "    }\n",
       "\n",
       "    if(typeof define === \"function\" && define.amd) {\n",
       "      requirejs.config({paths});\n",
       "      require([\"vega-embed\"], displayChart, err => showError(`Error loading script: ${err.message}`));\n",
       "    } else if (typeof vegaEmbed === \"function\") {\n",
       "      displayChart(vegaEmbed);\n",
       "    } else {\n",
       "      loadScript(\"vega\")\n",
       "        .then(() => loadScript(\"vega-lite\"))\n",
       "        .then(() => loadScript(\"vega-embed\"))\n",
       "        .catch(showError)\n",
       "        .then(() => displayChart(vegaEmbed));\n",
       "    }\n",
       "  })({\"config\": {\"view\": {\"continuousWidth\": 400, \"continuousHeight\": 300}}, \"data\": {\"url\": \"https://cdn.jsdelivr.net/npm/vega-datasets@1/data/burtin.json\"}, \"mark\": {\"type\": \"circle\", \"size\": 80}, \"encoding\": {\"color\": {\"type\": \"ordinal\", \"field\": \"Bacteria\", \"scale\": {\"scheme\": \"viridis\"}}, \"x\": {\"type\": \"quantitative\", \"axis\": {\"tickCount\": 5}, \"field\": \"Neomycin\", \"scale\": {\"domain\": [0.001, 1000], \"type\": \"log\"}, \"sort\": \"descending\", \"title\": \"Neomycin MIC (\\u03bcg/ml, reverse log scale)\"}, \"y\": {\"type\": \"quantitative\", \"axis\": {\"tickCount\": 5}, \"field\": \"Penicillin\", \"scale\": {\"domain\": [0.001, 1000], \"type\": \"log\"}, \"sort\": \"descending\", \"title\": \"Penicillin MIC (\\u03bcg/ml, reverse log scale)\"}}, \"height\": 250, \"width\": 250, \"$schema\": \"https://vega.github.io/schema/vega-lite/v4.8.1.json\"}, {\"mode\": \"vega-lite\"});\n",
       "</script>"
      ],
      "text/plain": [
       "alt.Chart(...)"
      ]
     },
     "execution_count": 22,
     "metadata": {},
     "output_type": "execute_result"
    }
   ],
   "source": [
    "alt.Chart(antibiotics).mark_circle(size=80).encode(\n",
    "    alt.X('Neomycin:Q',\n",
    "          sort='descending',\n",
    "          scale=alt.Scale(type='log', domain=[0.001, 1000]),\n",
    "          axis=alt.Axis(tickCount=5),\n",
    "          title='Neomycin MIC (μg/ml, reverse log scale)'),\n",
    "    alt.Y('Penicillin:Q',\n",
    "          sort='descending',\n",
    "          scale=alt.Scale(type='log', domain=[0.001, 1000]),\n",
    "          axis=alt.Axis(tickCount=5),\n",
    "          title='Penicillin MIC (μg/ml, reverse log scale)'),\n",
    "    alt.Color('Bacteria:O',\n",
    "          scale=alt.Scale(scheme='viridis'))\n",
    ").properties(width=250, height=250)"
   ]
  },
  {
   "cell_type": "markdown",
   "metadata": {
    "colab_type": "text",
    "id": "o98wtYo4cIAz"
   },
   "source": [
    "_Bacteria from the same genus now have more similar colors than before, but the chart still remains confusing. There are many colors, they are hard to look up in the legend accurately, and two bacteria may have similar colors but different genus._"
   ]
  },
  {
   "cell_type": "markdown",
   "metadata": {
    "colab_type": "text",
    "id": "Hpjqbi4rAhst"
   },
   "source": [
    "### Color by Genus\n",
    "\n",
    "Let's try to color by genus instead of bacteria. To do so, we will add a `calculate` transform that splits up the bacteria name on space characters and takes the first word in the resulting array. We can then encode the resulting `Genus` field using the `tableau20` color scheme.\n",
    "\n",
    "(Note that the antibiotics dataset includes a pre-calculated `Genus` field, but we will ignore it here in order to further explore Altair's data transformations.)"
   ]
  },
  {
   "cell_type": "code",
   "execution_count": 23,
   "metadata": {
    "colab": {
     "base_uri": "https://localhost:8080/",
     "height": 322
    },
    "colab_type": "code",
    "id": "39g0fVG6cuTG",
    "outputId": "654d3638-bded-4bbc-c88b-2e52c88e541c"
   },
   "outputs": [
    {
     "data": {
      "text/html": [
       "\n",
       "<div id=\"altair-viz-d4a26478f5954cd194bc9c70c01d1d25\"></div>\n",
       "<script type=\"text/javascript\">\n",
       "  (function(spec, embedOpt){\n",
       "    let outputDiv = document.currentScript.previousElementSibling;\n",
       "    if (outputDiv.id !== \"altair-viz-d4a26478f5954cd194bc9c70c01d1d25\") {\n",
       "      outputDiv = document.getElementById(\"altair-viz-d4a26478f5954cd194bc9c70c01d1d25\");\n",
       "    }\n",
       "    const paths = {\n",
       "      \"vega\": \"https://cdn.jsdelivr.net/npm//vega@5?noext\",\n",
       "      \"vega-lib\": \"https://cdn.jsdelivr.net/npm//vega-lib?noext\",\n",
       "      \"vega-lite\": \"https://cdn.jsdelivr.net/npm//vega-lite@4.8.1?noext\",\n",
       "      \"vega-embed\": \"https://cdn.jsdelivr.net/npm//vega-embed@6?noext\",\n",
       "    };\n",
       "\n",
       "    function loadScript(lib) {\n",
       "      return new Promise(function(resolve, reject) {\n",
       "        var s = document.createElement('script');\n",
       "        s.src = paths[lib];\n",
       "        s.async = true;\n",
       "        s.onload = () => resolve(paths[lib]);\n",
       "        s.onerror = () => reject(`Error loading script: ${paths[lib]}`);\n",
       "        document.getElementsByTagName(\"head\")[0].appendChild(s);\n",
       "      });\n",
       "    }\n",
       "\n",
       "    function showError(err) {\n",
       "      outputDiv.innerHTML = `<div class=\"error\" style=\"color:red;\">${err}</div>`;\n",
       "      throw err;\n",
       "    }\n",
       "\n",
       "    function displayChart(vegaEmbed) {\n",
       "      vegaEmbed(outputDiv, spec, embedOpt)\n",
       "        .catch(err => showError(`Javascript Error: ${err.message}<br>This usually means there's a typo in your chart specification. See the javascript console for the full traceback.`));\n",
       "    }\n",
       "\n",
       "    if(typeof define === \"function\" && define.amd) {\n",
       "      requirejs.config({paths});\n",
       "      require([\"vega-embed\"], displayChart, err => showError(`Error loading script: ${err.message}`));\n",
       "    } else if (typeof vegaEmbed === \"function\") {\n",
       "      displayChart(vegaEmbed);\n",
       "    } else {\n",
       "      loadScript(\"vega\")\n",
       "        .then(() => loadScript(\"vega-lite\"))\n",
       "        .then(() => loadScript(\"vega-embed\"))\n",
       "        .catch(showError)\n",
       "        .then(() => displayChart(vegaEmbed));\n",
       "    }\n",
       "  })({\"config\": {\"view\": {\"continuousWidth\": 400, \"continuousHeight\": 300}}, \"data\": {\"url\": \"https://cdn.jsdelivr.net/npm/vega-datasets@1/data/burtin.json\"}, \"mark\": {\"type\": \"circle\", \"size\": 80}, \"encoding\": {\"color\": {\"type\": \"nominal\", \"field\": \"Genus\", \"scale\": {\"scheme\": \"tableau20\"}}, \"x\": {\"type\": \"quantitative\", \"axis\": {\"tickCount\": 5}, \"field\": \"Neomycin\", \"scale\": {\"domain\": [0.001, 1000], \"type\": \"log\"}, \"sort\": \"descending\", \"title\": \"Neomycin MIC (\\u03bcg/ml, reverse log scale)\"}, \"y\": {\"type\": \"quantitative\", \"axis\": {\"tickCount\": 5}, \"field\": \"Penicillin\", \"scale\": {\"domain\": [0.001, 1000], \"type\": \"log\"}, \"sort\": \"descending\", \"title\": \"Penicillin MIC (\\u03bcg/ml, reverse log scale)\"}}, \"height\": 250, \"transform\": [{\"calculate\": \"split(datum.Bacteria, \\\" \\\")[0]\", \"as\": \"Genus\"}], \"width\": 250, \"$schema\": \"https://vega.github.io/schema/vega-lite/v4.8.1.json\"}, {\"mode\": \"vega-lite\"});\n",
       "</script>"
      ],
      "text/plain": [
       "alt.Chart(...)"
      ]
     },
     "execution_count": 23,
     "metadata": {},
     "output_type": "execute_result"
    }
   ],
   "source": [
    "alt.Chart(antibiotics).mark_circle(size=80).transform_calculate(\n",
    "    Genus='split(datum.Bacteria, \" \")[0]'\n",
    ").encode(\n",
    "    alt.X('Neomycin:Q',\n",
    "          sort='descending',\n",
    "          scale=alt.Scale(type='log', domain=[0.001, 1000]),\n",
    "          axis=alt.Axis(tickCount=5),\n",
    "          title='Neomycin MIC (μg/ml, reverse log scale)'),\n",
    "    alt.Y('Penicillin:Q',\n",
    "          sort='descending',\n",
    "          scale=alt.Scale(type='log', domain=[0.001, 1000]),\n",
    "          axis=alt.Axis(tickCount=5),\n",
    "          title='Penicillin MIC (μg/ml, reverse log scale)'),\n",
    "    alt.Color('Genus:N',\n",
    "          scale=alt.Scale(scheme='tableau20'))\n",
    ").properties(width=250, height=250)"
   ]
  },
  {
   "cell_type": "markdown",
   "metadata": {
    "colab_type": "text",
    "id": "UMH3wAeWdAXL"
   },
   "source": [
    "_Hmm... While the data are better segregated by genus, this cacapohony of colors doesn't seem particularly useful._\n",
    "\n",
    "_If we look at some of the previous charts carefully, we can see that only a handful of bacteria have a genus shared with another bacteria: Salmonella, Staphylococcus, and Streptococcus. To focus our comparison, we might add colors only for these repeated genus values._\n",
    "\n",
    "Let's add another `calculate` transform that takes a genus name, keeps it if it is one of the repeated values, and otherwise uses the string `\"Other\"`.\n",
    "\n",
    "In addition, we can add custom color encodings using explicit `domain` and `range` arrays for the color encoding `scale`.\n"
   ]
  },
  {
   "cell_type": "code",
   "execution_count": 24,
   "metadata": {
    "colab": {
     "base_uri": "https://localhost:8080/",
     "height": 322
    },
    "colab_type": "code",
    "id": "Qmi_geBiPgvr",
    "outputId": "9e06d0a1-756a-4a46-cedf-e2be85e7b09d"
   },
   "outputs": [
    {
     "data": {
      "text/html": [
       "\n",
       "<div id=\"altair-viz-a1f8d83bf05942928e539e2bb797f765\"></div>\n",
       "<script type=\"text/javascript\">\n",
       "  (function(spec, embedOpt){\n",
       "    let outputDiv = document.currentScript.previousElementSibling;\n",
       "    if (outputDiv.id !== \"altair-viz-a1f8d83bf05942928e539e2bb797f765\") {\n",
       "      outputDiv = document.getElementById(\"altair-viz-a1f8d83bf05942928e539e2bb797f765\");\n",
       "    }\n",
       "    const paths = {\n",
       "      \"vega\": \"https://cdn.jsdelivr.net/npm//vega@5?noext\",\n",
       "      \"vega-lib\": \"https://cdn.jsdelivr.net/npm//vega-lib?noext\",\n",
       "      \"vega-lite\": \"https://cdn.jsdelivr.net/npm//vega-lite@4.8.1?noext\",\n",
       "      \"vega-embed\": \"https://cdn.jsdelivr.net/npm//vega-embed@6?noext\",\n",
       "    };\n",
       "\n",
       "    function loadScript(lib) {\n",
       "      return new Promise(function(resolve, reject) {\n",
       "        var s = document.createElement('script');\n",
       "        s.src = paths[lib];\n",
       "        s.async = true;\n",
       "        s.onload = () => resolve(paths[lib]);\n",
       "        s.onerror = () => reject(`Error loading script: ${paths[lib]}`);\n",
       "        document.getElementsByTagName(\"head\")[0].appendChild(s);\n",
       "      });\n",
       "    }\n",
       "\n",
       "    function showError(err) {\n",
       "      outputDiv.innerHTML = `<div class=\"error\" style=\"color:red;\">${err}</div>`;\n",
       "      throw err;\n",
       "    }\n",
       "\n",
       "    function displayChart(vegaEmbed) {\n",
       "      vegaEmbed(outputDiv, spec, embedOpt)\n",
       "        .catch(err => showError(`Javascript Error: ${err.message}<br>This usually means there's a typo in your chart specification. See the javascript console for the full traceback.`));\n",
       "    }\n",
       "\n",
       "    if(typeof define === \"function\" && define.amd) {\n",
       "      requirejs.config({paths});\n",
       "      require([\"vega-embed\"], displayChart, err => showError(`Error loading script: ${err.message}`));\n",
       "    } else if (typeof vegaEmbed === \"function\") {\n",
       "      displayChart(vegaEmbed);\n",
       "    } else {\n",
       "      loadScript(\"vega\")\n",
       "        .then(() => loadScript(\"vega-lite\"))\n",
       "        .then(() => loadScript(\"vega-embed\"))\n",
       "        .catch(showError)\n",
       "        .then(() => displayChart(vegaEmbed));\n",
       "    }\n",
       "  })({\"config\": {\"view\": {\"continuousWidth\": 400, \"continuousHeight\": 300}}, \"data\": {\"url\": \"https://cdn.jsdelivr.net/npm/vega-datasets@1/data/burtin.json\"}, \"mark\": {\"type\": \"circle\", \"size\": 80}, \"encoding\": {\"color\": {\"type\": \"nominal\", \"field\": \"Genus\", \"scale\": {\"domain\": [\"Salmonella\", \"Staphylococcus\", \"Streptococcus\", \"Other\"], \"range\": [\"rgb(76,120,168)\", \"rgb(84,162,75)\", \"rgb(228,87,86)\", \"rgb(121,112,110)\"]}}, \"x\": {\"type\": \"quantitative\", \"axis\": {\"tickCount\": 5}, \"field\": \"Neomycin\", \"scale\": {\"domain\": [0.001, 1000], \"type\": \"log\"}, \"sort\": \"descending\", \"title\": \"Neomycin MIC (\\u03bcg/ml, reverse log scale)\"}, \"y\": {\"type\": \"quantitative\", \"axis\": {\"tickCount\": 5}, \"field\": \"Penicillin\", \"scale\": {\"domain\": [0.001, 1000], \"type\": \"log\"}, \"sort\": \"descending\", \"title\": \"Penicillin MIC (\\u03bcg/ml, reverse log scale)\"}}, \"height\": 250, \"transform\": [{\"calculate\": \"split(datum.Bacteria, \\\" \\\")[0]\", \"as\": \"Split\"}, {\"calculate\": \"indexof([\\\"Salmonella\\\", \\\"Staphylococcus\\\", \\\"Streptococcus\\\"], datum.Split) >= 0 ? datum.Split : \\\"Other\\\"\", \"as\": \"Genus\"}], \"width\": 250, \"$schema\": \"https://vega.github.io/schema/vega-lite/v4.8.1.json\"}, {\"mode\": \"vega-lite\"});\n",
       "</script>"
      ],
      "text/plain": [
       "alt.Chart(...)"
      ]
     },
     "execution_count": 24,
     "metadata": {},
     "output_type": "execute_result"
    }
   ],
   "source": [
    "alt.Chart(antibiotics).mark_circle(size=80).transform_calculate(\n",
    "  Split='split(datum.Bacteria, \" \")[0]'\n",
    ").transform_calculate(\n",
    "  Genus='indexof([\"Salmonella\", \"Staphylococcus\", \"Streptococcus\"], datum.Split) >= 0 ? datum.Split : \"Other\"'\n",
    ").encode(\n",
    "    alt.X('Neomycin:Q',\n",
    "          sort='descending',\n",
    "          scale=alt.Scale(type='log', domain=[0.001, 1000]),\n",
    "          axis=alt.Axis(tickCount=5),\n",
    "          title='Neomycin MIC (μg/ml, reverse log scale)'),\n",
    "    alt.Y('Penicillin:Q',\n",
    "          sort='descending',\n",
    "          scale=alt.Scale(type='log', domain=[0.001, 1000]),\n",
    "          axis=alt.Axis(tickCount=5),\n",
    "          title='Penicillin MIC (μg/ml, reverse log scale)'),\n",
    "    alt.Color('Genus:N',\n",
    "          scale=alt.Scale(\n",
    "            domain=['Salmonella', 'Staphylococcus', 'Streptococcus', 'Other'],\n",
    "            range=['rgb(76,120,168)', 'rgb(84,162,75)', 'rgb(228,87,86)', 'rgb(121,112,110)']\n",
    "          ))\n",
    ").properties(width=250, height=250)"
   ]
  },
  {
   "cell_type": "markdown",
   "metadata": {
    "colab_type": "text",
    "id": "QQAuRPEDeRjU"
   },
   "source": [
    "_We now have a much more revealing plot, made possible by customizations to the axes and legend. Take a moment to examine the plot above. Notice any surprising groupings?_\n",
    "\n",
    "_The upper-left region has a cluster of red Streptococcus bacteria, but with a grey Other bacteria alongside them. Meanwhile, towards the middle-right we see another red Streptococcus placed far away from its \"cousins\". Might we expect bacteria from the same genus (and thus presumably more genetically similar) to be grouped closer together?_\n",
    "\n",
    "As it so happens, the underlying dataset actually contains errors. The dataset reflects the species designations used in the early 1950s. However, the scientific consensus has since been overturned. That gray point in the upper-left? It's now considered a Streptococcus! That red point towards the middle-right? It's no longer considered a Streptococcus!\n",
    "\n",
    "Of course, on its own, this dataset doesn't fully justify these reclassifications. Nevertheless, the data contain valuable biological clues that went overlooked for decades! Visualization, when used by an appropriately skilled and inquisitive viewer, can be a powerful tool for discovery.\n",
    "\n",
    "This example also reinforces an important lesson: **_always be skeptical of your data!_**"
   ]
  },
  {
   "cell_type": "markdown",
   "metadata": {
    "colab_type": "text",
    "id": "QT1isVxqftkU"
   },
   "source": [
    "### Color by Antibiotic Response\n",
    "\n",
    "We might also use the `color` channel to encode quantitative values. Though keep in mind that typically color is not as effective for conveying quantities as position or size encodings!\n",
    "\n",
    "Here is a basic heatmap of penicillin MIC values for each bacteria. We'll use a `rect` mark and sort the bacteria by descending MIC values (from most to least resistant):"
   ]
  },
  {
   "cell_type": "code",
   "execution_count": 25,
   "metadata": {
    "colab": {
     "base_uri": "https://localhost:8080/",
     "height": 367
    },
    "colab_type": "code",
    "id": "orEjpD5uU2m0",
    "outputId": "0a92631d-1f68-4840-d5cd-26399f559aba"
   },
   "outputs": [
    {
     "data": {
      "text/html": [
       "\n",
       "<div id=\"altair-viz-3c5bc5598812484ba7bf18f15684afe4\"></div>\n",
       "<script type=\"text/javascript\">\n",
       "  (function(spec, embedOpt){\n",
       "    let outputDiv = document.currentScript.previousElementSibling;\n",
       "    if (outputDiv.id !== \"altair-viz-3c5bc5598812484ba7bf18f15684afe4\") {\n",
       "      outputDiv = document.getElementById(\"altair-viz-3c5bc5598812484ba7bf18f15684afe4\");\n",
       "    }\n",
       "    const paths = {\n",
       "      \"vega\": \"https://cdn.jsdelivr.net/npm//vega@5?noext\",\n",
       "      \"vega-lib\": \"https://cdn.jsdelivr.net/npm//vega-lib?noext\",\n",
       "      \"vega-lite\": \"https://cdn.jsdelivr.net/npm//vega-lite@4.8.1?noext\",\n",
       "      \"vega-embed\": \"https://cdn.jsdelivr.net/npm//vega-embed@6?noext\",\n",
       "    };\n",
       "\n",
       "    function loadScript(lib) {\n",
       "      return new Promise(function(resolve, reject) {\n",
       "        var s = document.createElement('script');\n",
       "        s.src = paths[lib];\n",
       "        s.async = true;\n",
       "        s.onload = () => resolve(paths[lib]);\n",
       "        s.onerror = () => reject(`Error loading script: ${paths[lib]}`);\n",
       "        document.getElementsByTagName(\"head\")[0].appendChild(s);\n",
       "      });\n",
       "    }\n",
       "\n",
       "    function showError(err) {\n",
       "      outputDiv.innerHTML = `<div class=\"error\" style=\"color:red;\">${err}</div>`;\n",
       "      throw err;\n",
       "    }\n",
       "\n",
       "    function displayChart(vegaEmbed) {\n",
       "      vegaEmbed(outputDiv, spec, embedOpt)\n",
       "        .catch(err => showError(`Javascript Error: ${err.message}<br>This usually means there's a typo in your chart specification. See the javascript console for the full traceback.`));\n",
       "    }\n",
       "\n",
       "    if(typeof define === \"function\" && define.amd) {\n",
       "      requirejs.config({paths});\n",
       "      require([\"vega-embed\"], displayChart, err => showError(`Error loading script: ${err.message}`));\n",
       "    } else if (typeof vegaEmbed === \"function\") {\n",
       "      displayChart(vegaEmbed);\n",
       "    } else {\n",
       "      loadScript(\"vega\")\n",
       "        .then(() => loadScript(\"vega-lite\"))\n",
       "        .then(() => loadScript(\"vega-embed\"))\n",
       "        .catch(showError)\n",
       "        .then(() => displayChart(vegaEmbed));\n",
       "    }\n",
       "  })({\"config\": {\"view\": {\"continuousWidth\": 400, \"continuousHeight\": 300}}, \"data\": {\"url\": \"https://cdn.jsdelivr.net/npm/vega-datasets@1/data/burtin.json\"}, \"mark\": \"rect\", \"encoding\": {\"color\": {\"type\": \"quantitative\", \"field\": \"Penicillin\"}, \"y\": {\"type\": \"nominal\", \"field\": \"Bacteria\", \"sort\": {\"field\": \"Penicillin\", \"op\": \"max\", \"order\": \"descending\"}}}, \"$schema\": \"https://vega.github.io/schema/vega-lite/v4.8.1.json\"}, {\"mode\": \"vega-lite\"});\n",
       "</script>"
      ],
      "text/plain": [
       "alt.Chart(...)"
      ]
     },
     "execution_count": 25,
     "metadata": {},
     "output_type": "execute_result"
    }
   ],
   "source": [
    "alt.Chart(antibiotics).mark_rect().encode(\n",
    "    alt.Y('Bacteria:N',\n",
    "      sort=alt.EncodingSortField(field='Penicillin', op='max', order='descending')\n",
    "    ),\n",
    "    alt.Color('Penicillin:Q')\n",
    ")"
   ]
  },
  {
   "cell_type": "markdown",
   "metadata": {
    "colab_type": "text",
    "id": "UjInt4P8Ki5I"
   },
   "source": [
    "We can further improve this chart by combining features we've seen thus far: a log-transformed scale, a change of axis orientation, a custom color scheme (`plasma`), tick count adjustment, and custom title text. We'll also exercise configuration options to adjust the axis title placement and legend title alignment."
   ]
  },
  {
   "cell_type": "code",
   "execution_count": 26,
   "metadata": {
    "colab": {
     "base_uri": "https://localhost:8080/",
     "height": 367
    },
    "colab_type": "code",
    "id": "spIpf8S6J1pJ",
    "outputId": "96210f62-39b2-4e61-a528-cd6f8b552f77"
   },
   "outputs": [
    {
     "data": {
      "text/html": [
       "\n",
       "<div id=\"altair-viz-e976a2a226e84fc6ad06e7cc853c8223\"></div>\n",
       "<script type=\"text/javascript\">\n",
       "  (function(spec, embedOpt){\n",
       "    let outputDiv = document.currentScript.previousElementSibling;\n",
       "    if (outputDiv.id !== \"altair-viz-e976a2a226e84fc6ad06e7cc853c8223\") {\n",
       "      outputDiv = document.getElementById(\"altair-viz-e976a2a226e84fc6ad06e7cc853c8223\");\n",
       "    }\n",
       "    const paths = {\n",
       "      \"vega\": \"https://cdn.jsdelivr.net/npm//vega@5?noext\",\n",
       "      \"vega-lib\": \"https://cdn.jsdelivr.net/npm//vega-lib?noext\",\n",
       "      \"vega-lite\": \"https://cdn.jsdelivr.net/npm//vega-lite@4.8.1?noext\",\n",
       "      \"vega-embed\": \"https://cdn.jsdelivr.net/npm//vega-embed@6?noext\",\n",
       "    };\n",
       "\n",
       "    function loadScript(lib) {\n",
       "      return new Promise(function(resolve, reject) {\n",
       "        var s = document.createElement('script');\n",
       "        s.src = paths[lib];\n",
       "        s.async = true;\n",
       "        s.onload = () => resolve(paths[lib]);\n",
       "        s.onerror = () => reject(`Error loading script: ${paths[lib]}`);\n",
       "        document.getElementsByTagName(\"head\")[0].appendChild(s);\n",
       "      });\n",
       "    }\n",
       "\n",
       "    function showError(err) {\n",
       "      outputDiv.innerHTML = `<div class=\"error\" style=\"color:red;\">${err}</div>`;\n",
       "      throw err;\n",
       "    }\n",
       "\n",
       "    function displayChart(vegaEmbed) {\n",
       "      vegaEmbed(outputDiv, spec, embedOpt)\n",
       "        .catch(err => showError(`Javascript Error: ${err.message}<br>This usually means there's a typo in your chart specification. See the javascript console for the full traceback.`));\n",
       "    }\n",
       "\n",
       "    if(typeof define === \"function\" && define.amd) {\n",
       "      requirejs.config({paths});\n",
       "      require([\"vega-embed\"], displayChart, err => showError(`Error loading script: ${err.message}`));\n",
       "    } else if (typeof vegaEmbed === \"function\") {\n",
       "      displayChart(vegaEmbed);\n",
       "    } else {\n",
       "      loadScript(\"vega\")\n",
       "        .then(() => loadScript(\"vega-lite\"))\n",
       "        .then(() => loadScript(\"vega-embed\"))\n",
       "        .catch(showError)\n",
       "        .then(() => displayChart(vegaEmbed));\n",
       "    }\n",
       "  })({\"config\": {\"view\": {\"continuousWidth\": 400, \"continuousHeight\": 300}}, \"data\": {\"url\": \"https://cdn.jsdelivr.net/npm/vega-datasets@1/data/burtin.json\"}, \"mark\": \"rect\", \"encoding\": {\"color\": {\"type\": \"quantitative\", \"field\": \"Penicillin\", \"legend\": {\"tickCount\": 5, \"titleOrient\": \"right\"}, \"scale\": {\"nice\": true, \"scheme\": \"plasma\", \"type\": \"log\"}, \"title\": \"Penicillin MIC (\\u03bcg/ml)\"}, \"y\": {\"type\": \"nominal\", \"axis\": {\"orient\": \"right\", \"titleAlign\": \"left\", \"titleAngle\": 0, \"titleX\": 7, \"titleY\": -2}, \"field\": \"Bacteria\", \"sort\": {\"field\": \"Penicillin\", \"op\": \"max\", \"order\": \"descending\"}}}, \"$schema\": \"https://vega.github.io/schema/vega-lite/v4.8.1.json\"}, {\"mode\": \"vega-lite\"});\n",
       "</script>"
      ],
      "text/plain": [
       "alt.Chart(...)"
      ]
     },
     "execution_count": 26,
     "metadata": {},
     "output_type": "execute_result"
    }
   ],
   "source": [
    "alt.Chart(antibiotics).mark_rect().encode(\n",
    "    alt.Y('Bacteria:N',\n",
    "      sort=alt.EncodingSortField(field='Penicillin', op='max', order='descending'),\n",
    "      axis=alt.Axis(\n",
    "        orient='right',     # orient axis on right side of chart\n",
    "        titleX=7,           # set x-position to 7 pixels right of chart\n",
    "        titleY=-2,          # set y-position to 2 pixels above chart\n",
    "        titleAlign='left',  # use left-aligned text\n",
    "        titleAngle=0        # undo default title rotation\n",
    "      )\n",
    "    ),\n",
    "    alt.Color('Penicillin:Q',\n",
    "      scale=alt.Scale(type='log', scheme='plasma', nice=True),\n",
    "      legend=alt.Legend(titleOrient='right', tickCount=5),\n",
    "      title='Penicillin MIC (μg/ml)'\n",
    "    )\n",
    ")"
   ]
  },
  {
   "cell_type": "markdown",
   "metadata": {},
   "source": [
    "Alternatively, we can remove the axis title altogether, and use the top-level `title` property to add a title for the entire chart:"
   ]
  },
  {
   "cell_type": "code",
   "execution_count": 27,
   "metadata": {},
   "outputs": [
    {
     "data": {
      "text/html": [
       "\n",
       "<div id=\"altair-viz-133dc02cb5e04596aeff0f24d36148d5\"></div>\n",
       "<script type=\"text/javascript\">\n",
       "  (function(spec, embedOpt){\n",
       "    let outputDiv = document.currentScript.previousElementSibling;\n",
       "    if (outputDiv.id !== \"altair-viz-133dc02cb5e04596aeff0f24d36148d5\") {\n",
       "      outputDiv = document.getElementById(\"altair-viz-133dc02cb5e04596aeff0f24d36148d5\");\n",
       "    }\n",
       "    const paths = {\n",
       "      \"vega\": \"https://cdn.jsdelivr.net/npm//vega@5?noext\",\n",
       "      \"vega-lib\": \"https://cdn.jsdelivr.net/npm//vega-lib?noext\",\n",
       "      \"vega-lite\": \"https://cdn.jsdelivr.net/npm//vega-lite@4.8.1?noext\",\n",
       "      \"vega-embed\": \"https://cdn.jsdelivr.net/npm//vega-embed@6?noext\",\n",
       "    };\n",
       "\n",
       "    function loadScript(lib) {\n",
       "      return new Promise(function(resolve, reject) {\n",
       "        var s = document.createElement('script');\n",
       "        s.src = paths[lib];\n",
       "        s.async = true;\n",
       "        s.onload = () => resolve(paths[lib]);\n",
       "        s.onerror = () => reject(`Error loading script: ${paths[lib]}`);\n",
       "        document.getElementsByTagName(\"head\")[0].appendChild(s);\n",
       "      });\n",
       "    }\n",
       "\n",
       "    function showError(err) {\n",
       "      outputDiv.innerHTML = `<div class=\"error\" style=\"color:red;\">${err}</div>`;\n",
       "      throw err;\n",
       "    }\n",
       "\n",
       "    function displayChart(vegaEmbed) {\n",
       "      vegaEmbed(outputDiv, spec, embedOpt)\n",
       "        .catch(err => showError(`Javascript Error: ${err.message}<br>This usually means there's a typo in your chart specification. See the javascript console for the full traceback.`));\n",
       "    }\n",
       "\n",
       "    if(typeof define === \"function\" && define.amd) {\n",
       "      requirejs.config({paths});\n",
       "      require([\"vega-embed\"], displayChart, err => showError(`Error loading script: ${err.message}`));\n",
       "    } else if (typeof vegaEmbed === \"function\") {\n",
       "      displayChart(vegaEmbed);\n",
       "    } else {\n",
       "      loadScript(\"vega\")\n",
       "        .then(() => loadScript(\"vega-lite\"))\n",
       "        .then(() => loadScript(\"vega-embed\"))\n",
       "        .catch(showError)\n",
       "        .then(() => displayChart(vegaEmbed));\n",
       "    }\n",
       "  })({\"config\": {\"view\": {\"continuousWidth\": 400, \"continuousHeight\": 300}, \"title\": {\"anchor\": \"start\", \"offset\": 5}}, \"data\": {\"url\": \"https://cdn.jsdelivr.net/npm/vega-datasets@1/data/burtin.json\"}, \"mark\": \"rect\", \"encoding\": {\"color\": {\"type\": \"quantitative\", \"field\": \"Penicillin\", \"legend\": {\"tickCount\": 5, \"titleOrient\": \"right\"}, \"scale\": {\"nice\": true, \"scheme\": \"plasma\", \"type\": \"log\"}, \"title\": \"Penicillin MIC (\\u03bcg/ml)\"}, \"y\": {\"type\": \"nominal\", \"axis\": {\"orient\": \"right\", \"title\": null}, \"field\": \"Bacteria\", \"sort\": {\"field\": \"Penicillin\", \"op\": \"max\", \"order\": \"descending\"}}}, \"title\": \"Penicillin Resistance of Bacterial Strains\", \"$schema\": \"https://vega.github.io/schema/vega-lite/v4.8.1.json\"}, {\"mode\": \"vega-lite\"});\n",
       "</script>"
      ],
      "text/plain": [
       "alt.Chart(...)"
      ]
     },
     "execution_count": 27,
     "metadata": {},
     "output_type": "execute_result"
    }
   ],
   "source": [
    "alt.Chart(antibiotics, title='Penicillin Resistance of Bacterial Strains').mark_rect().encode(\n",
    "    alt.Y('Bacteria:N',\n",
    "      sort=alt.EncodingSortField(field='Penicillin', op='max', order='descending'),\n",
    "      axis=alt.Axis(orient='right', title=None)\n",
    "    ),\n",
    "    alt.Color('Penicillin:Q',\n",
    "      scale=alt.Scale(type='log', scheme='plasma', nice=True),\n",
    "      legend=alt.Legend(titleOrient='right', tickCount=5),\n",
    "      title='Penicillin MIC (μg/ml)'\n",
    "    )\n",
    ").configure_title(\n",
    "  anchor='start', # anchor and left-align title\n",
    "  offset=5        # set title offset from chart\n",
    ")"
   ]
  },
  {
   "cell_type": "markdown",
   "metadata": {
    "colab_type": "text",
    "id": "0yZWjogLK8yz"
   },
   "source": [
    "## Summary\n",
    "\n",
    "Integrating what we've learned across the notebooks so far about encodings, data transforms, and customization, you should now be prepared to make a wide variety of statistical graphics. Now you can put Altair into everyday use for exploring and communicating data!\n",
    "\n",
    "Interested in learning more about this topic?\n",
    "\n",
    "- Start with the [Altair Customizing Visualizations documentation](https://altair-viz.github.io/user_guide/customization.html).\n",
    "- For a complementary discussion of scale mappings, see [\"Introducing d3-scale\"](https://medium.com/@mbostock/introducing-d3-scale-61980c51545f).\n",
    "- For a more in-depth exploration of all the ways axes and legends can be styled by the underlying Vega library (which powers Altair and Vega-Lite), see [\"A Guide to Guides: Axes & Legends in Vega\"](https://beta.observablehq.com/@jheer/a-guide-to-guides-axes-legends-in-vega).\n",
    "- For a fascinating history of the antibiotics dataset, see [Wainer &amp; Lysen's \"That's Funny...\"](https://www.americanscientist.org/article/thats-funny) in the _American Scientist_."
   ]
  }
 ],
 "metadata": {
  "kernelspec": {
   "display_name": "Python 3 (ipykernel)",
   "language": "python",
   "name": "python3"
  },
  "language_info": {
   "codemirror_mode": {
    "name": "ipython",
    "version": 3
   },
   "file_extension": ".py",
   "mimetype": "text/x-python",
   "name": "python",
   "nbconvert_exporter": "python",
   "pygments_lexer": "ipython3",
   "version": "3.12.2"
  }
 },
 "nbformat": 4,
 "nbformat_minor": 4
}
